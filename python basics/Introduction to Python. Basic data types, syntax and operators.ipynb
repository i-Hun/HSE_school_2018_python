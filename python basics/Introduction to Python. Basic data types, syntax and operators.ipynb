{
 "cells": [
  {
   "cell_type": "markdown",
   "metadata": {},
   "source": [
    "# How Jupyter works\n",
    "Help > User Interface Tour"
   ]
  },
  {
   "cell_type": "markdown",
   "metadata": {
    "hideCode": false,
    "hidePrompt": false
   },
   "source": [
    "# Simple program"
   ]
  },
  {
   "cell_type": "markdown",
   "metadata": {
    "hideCode": false,
    "hidePrompt": false
   },
   "source": [
    "Try to guess what will be the output of this simple program."
   ]
  },
  {
   "cell_type": "code",
   "execution_count": null,
   "metadata": {},
   "outputs": [],
   "source": [
    "names = [\"Sasha Robinovich\", \"Bob Smith\", \"Sasha Grey\", \"Max\"]\n",
    "\n",
    "for name in names:\n",
    "    if \"Sasha\" in name:\n",
    "        print(name)"
   ]
  },
  {
   "cell_type": "markdown",
   "metadata": {
    "hideCode": false,
    "hidePrompt": false
   },
   "source": [
    "# Python program structure\n",
    "1. Programs are composed of modules.\n",
    "2. Modules contain statements.\n",
    "3. Statements contain expressions.\n",
    "4. **Expressions create and process objects.**"
   ]
  },
  {
   "cell_type": "markdown",
   "metadata": {
    "hideCode": false,
    "hidePrompt": false
   },
   "source": [
    "# Variables"
   ]
  },
  {
   "cell_type": "code",
   "execution_count": 6,
   "metadata": {
    "ExecuteTime": {
     "end_time": "2018-07-14T13:46:31.051755Z",
     "start_time": "2018-07-14T13:46:31.047925Z"
    },
    "hideCode": false,
    "hidePrompt": false
   },
   "outputs": [],
   "source": [
    "a = 3"
   ]
  },
  {
   "cell_type": "markdown",
   "metadata": {
    "hideCode": false,
    "hidePrompt": false
   },
   "source": [
    "**Variables** of certain data type used to code their literals. **Variables** are simply names—created by you or Python—that are used to keep track of information in your program. A variable (i.e., name), like `a`, is created when your code first assigns it a value. Future assignments change the value of the already created name.\n",
    "\n",
    "A variable never has any type information or constraints associated with it. The notion of type lives with objects, not names. Variables are generic in nature; they always simply refer to a particular object at a particular point in time.\n",
    "\n",
    "Term **literal** simply means an expression whose syntax generates an object.\n",
    "\n",
    "* Variables are created when they are first assigned values.\n",
    "* Variables are replaced with their values when used in expressions.\n",
    "* Variables must be assigned before they can be used in expressions.\n",
    "* Variables refer to objects and are never declared ahead of time."
   ]
  },
  {
   "cell_type": "code",
   "execution_count": 55,
   "metadata": {
    "ExecuteTime": {
     "end_time": "2018-07-10T22:12:27.925644Z",
     "start_time": "2018-07-10T22:12:27.921424Z"
    },
    "hideCode": false,
    "hidePrompt": false
   },
   "outputs": [],
   "source": [
    "a = 'spam' # Now it's a string"
   ]
  },
  {
   "cell_type": "code",
   "execution_count": 19,
   "metadata": {
    "ExecuteTime": {
     "end_time": "2018-07-10T21:07:33.960754Z",
     "start_time": "2018-07-10T21:07:33.955170Z"
    },
    "hideCode": false,
    "hidePrompt": false
   },
   "outputs": [
    {
     "data": {
      "text/plain": [
       "7"
      ]
     },
     "execution_count": 19,
     "metadata": {},
     "output_type": "execute_result"
    }
   ],
   "source": [
    "a = 3 # Name created: not declared ahead of time\n",
    "b = 4\n",
    "c = a + b\n",
    "c"
   ]
  },
  {
   "cell_type": "code",
   "execution_count": 18,
   "metadata": {
    "ExecuteTime": {
     "end_time": "2018-07-10T21:07:27.158471Z",
     "start_time": "2018-07-10T21:07:27.153616Z"
    },
    "hideCode": false,
    "hidePrompt": false
   },
   "outputs": [
    {
     "data": {
      "text/plain": [
       "7"
      ]
     },
     "execution_count": 18,
     "metadata": {},
     "output_type": "execute_result"
    }
   ],
   "source": [
    "3 + 4"
   ]
  },
  {
   "cell_type": "markdown",
   "metadata": {
    "hideCode": false,
    "hidePrompt": false
   },
   "source": [
    "I’ve also used a **comment** here. Recall that in Python code, text after a `#` mark and continuing to the end of the line is considered to be a comment and is ignored by Python. Comments are a way to write human-readable documentation for your code."
   ]
  },
  {
   "cell_type": "markdown",
   "metadata": {
    "hideCode": false,
    "hidePrompt": false
   },
   "source": [
    "# Core data types its operators"
   ]
  },
  {
   "cell_type": "markdown",
   "metadata": {
    "hideCode": false,
    "hidePrompt": false
   },
   "source": [
    "\n",
    "| Data type | Example literals/creation |\n",
    "|-----------|------------|\n",
    "| Numbers     |`1234`, `3.1415`, `3+4j`|\n",
    "| Strings     |`'spam'`, `\"Bob's\"` |\n",
    "| Lists       |`[1, [2, 'three'], 4.5]`, `list(range(10))` |\n",
    "| Dictionaries         |          `{'food': 'spam', 'taste': 'yum'}`, `dict(hours=10)` |\n",
    "| Tuples       |       `(1, 'spam', 4, 'U')`, `tuple('spam')` |\n",
    "| Sets    |     `set('abc')`, `{'a', 'b', 'c'}` |\n",
    "|Other core types| Booleans, types, None|\n"
   ]
  },
  {
   "cell_type": "markdown",
   "metadata": {
    "ExecuteTime": {
     "end_time": "2018-07-10T20:42:02.111904Z",
     "start_time": "2018-07-10T20:42:01.933924Z"
    },
    "hideCode": false,
    "hidePrompt": false
   },
   "source": [
    "## Numbers"
   ]
  },
  {
   "cell_type": "markdown",
   "metadata": {
    "hideCode": false,
    "hidePrompt": false
   },
   "source": [
    "* **integers** that have no fractional part. Integers are written as strings of decimal digits.\n",
    "* **floating-point** numbers have a decimal point and/or an optional signed exponent introduced by an e or E and followed by an optional sign.\n",
    "* **complex**. Python complex literals are written as realpart+imaginarypart, where the imaginarypart is terminated with a j or J."
   ]
  },
  {
   "cell_type": "code",
   "execution_count": 2,
   "metadata": {
    "ExecuteTime": {
     "end_time": "2018-07-10T20:48:08.456777Z",
     "start_time": "2018-07-10T20:48:08.453835Z"
    },
    "hideCode": false,
    "hidePrompt": false
   },
   "outputs": [],
   "source": [
    "integer = 1234"
   ]
  },
  {
   "cell_type": "code",
   "execution_count": 5,
   "metadata": {
    "ExecuteTime": {
     "end_time": "2018-07-10T20:48:43.025309Z",
     "start_time": "2018-07-10T20:48:43.021814Z"
    },
    "hideCode": false,
    "hidePrompt": false
   },
   "outputs": [],
   "source": [
    "integer_negative = -24"
   ]
  },
  {
   "cell_type": "code",
   "execution_count": 6,
   "metadata": {
    "ExecuteTime": {
     "end_time": "2018-07-10T20:49:11.051351Z",
     "start_time": "2018-07-10T20:49:11.047893Z"
    },
    "hideCode": false,
    "hidePrompt": false
   },
   "outputs": [],
   "source": [
    "float_number = 1.23"
   ]
  },
  {
   "cell_type": "code",
   "execution_count": 7,
   "metadata": {
    "ExecuteTime": {
     "end_time": "2018-07-10T20:49:55.541387Z",
     "start_time": "2018-07-10T20:49:55.538030Z"
    },
    "hideCode": false,
    "hidePrompt": false
   },
   "outputs": [],
   "source": [
    "float_engineer = 3.14e-10"
   ]
  },
  {
   "cell_type": "code",
   "execution_count": 11,
   "metadata": {
    "ExecuteTime": {
     "end_time": "2018-07-10T20:51:53.031738Z",
     "start_time": "2018-07-10T20:51:53.028229Z"
    },
    "hideCode": false,
    "hidePrompt": false
   },
   "outputs": [],
   "source": [
    "complex_num = 3+4j"
   ]
  },
  {
   "cell_type": "markdown",
   "metadata": {
    "hideCode": false,
    "hidePrompt": false
   },
   "source": [
    "### Operations with numbers"
   ]
  },
  {
   "cell_type": "markdown",
   "metadata": {
    "hideCode": false,
    "hidePrompt": false
   },
   "source": [
    "| Operators | Description |\n",
    "|-----------|------------|\n",
    "| `x + y`     |Addition|\n",
    "| `x – y`     |Subtraction|\n",
    "| `x * y`       |Multiplication;|\n",
    "| `x % y`     | Remainder |\n",
    "| `x / y`, `x // y`       |   Division: true and floor |\n",
    "| `−x`   |  Negation |\n",
    "| `x ** y`| Power|"
   ]
  },
  {
   "cell_type": "markdown",
   "metadata": {
    "hideCode": false,
    "hidePrompt": false
   },
   "source": [
    "When you write an expression with more than one operator, Python groups its parts according to what are called precedence rules, and this grouping determines the order in which the expression’s parts are computed. Table is ordered by operator precedence: operators lower in the table have higher precedence.\n",
    "\n",
    "You can forget about precedence completely if you’re careful to group parts of expressions with parentheses. When you enclose subexpressions in parentheses, you override Python’s precedence rules; Python always evaluates expressions in parentheses first before using their results in the enclosing expressions."
   ]
  },
  {
   "cell_type": "code",
   "execution_count": 29,
   "metadata": {
    "ExecuteTime": {
     "end_time": "2018-07-10T21:27:09.896192Z",
     "start_time": "2018-07-10T21:27:09.881828Z"
    },
    "hideCode": false,
    "hidePrompt": false
   },
   "outputs": [
    {
     "data": {
      "text/plain": [
       "11.5"
      ]
     },
     "execution_count": 29,
     "metadata": {},
     "output_type": "execute_result"
    }
   ],
   "source": [
    "2.3 * 5"
   ]
  },
  {
   "cell_type": "markdown",
   "metadata": {
    "hideCode": false,
    "hidePrompt": false
   },
   "source": [
    "Notice how mixed types are allowed in numeric expressions. In mixed-type numeric expressions, Python first converts operands up to the type of the most complicated operand, and then performs the math on same-type operands"
   ]
  },
  {
   "cell_type": "code",
   "execution_count": 31,
   "metadata": {
    "ExecuteTime": {
     "end_time": "2018-07-10T21:29:47.325510Z",
     "start_time": "2018-07-10T21:29:47.294336Z"
    },
    "hideCode": false,
    "hidePrompt": false
   },
   "outputs": [
    {
     "data": {
      "text/plain": [
       "2"
      ]
     },
     "execution_count": 31,
     "metadata": {},
     "output_type": "execute_result"
    }
   ],
   "source": [
    "10 // 4 # truncates remainder"
   ]
  },
  {
   "cell_type": "markdown",
   "metadata": {
    "ExecuteTime": {
     "end_time": "2018-07-10T21:08:20.451070Z",
     "start_time": "2018-07-10T21:08:20.446007Z"
    },
    "hideCode": false,
    "hidePrompt": false
   },
   "source": [
    "> Calculate the following expression: $\\frac{4^{12}}{6^8}⋅\\sqrt{3245} - 10000 $"
   ]
  },
  {
   "cell_type": "code",
   "execution_count": 12,
   "metadata": {
    "ExecuteTime": {
     "end_time": "2018-07-14T13:55:55.718167Z",
     "start_time": "2018-07-14T13:55:55.715117Z"
    },
    "hideCode": false,
    "hidePrompt": false
   },
   "outputs": [],
   "source": [
    "# write a code"
   ]
  },
  {
   "cell_type": "markdown",
   "metadata": {
    "hideCode": false,
    "hidePrompt": false
   },
   "source": [
    "### Comparisons"
   ]
  },
  {
   "cell_type": "code",
   "execution_count": 25,
   "metadata": {
    "ExecuteTime": {
     "end_time": "2018-07-10T21:24:48.282046Z",
     "start_time": "2018-07-10T21:24:48.271608Z"
    },
    "hideCode": false,
    "hidePrompt": false
   },
   "outputs": [
    {
     "data": {
      "text/plain": [
       "True"
      ]
     },
     "execution_count": 25,
     "metadata": {},
     "output_type": "execute_result"
    }
   ],
   "source": [
    "1 < 2 # Less than"
   ]
  },
  {
   "cell_type": "code",
   "execution_count": 26,
   "metadata": {
    "ExecuteTime": {
     "end_time": "2018-07-10T21:25:06.690148Z",
     "start_time": "2018-07-10T21:25:06.683384Z"
    },
    "hideCode": false,
    "hidePrompt": false
   },
   "outputs": [
    {
     "data": {
      "text/plain": [
       "True"
      ]
     },
     "execution_count": 26,
     "metadata": {},
     "output_type": "execute_result"
    }
   ],
   "source": [
    "2.0 >= 1 # Greater than or equal: mixed-type 1 converted to 1.0"
   ]
  },
  {
   "cell_type": "code",
   "execution_count": 15,
   "metadata": {
    "ExecuteTime": {
     "end_time": "2018-07-14T13:59:14.481458Z",
     "start_time": "2018-07-14T13:59:14.474566Z"
    }
   },
   "outputs": [
    {
     "data": {
      "text/plain": [
       "True"
      ]
     },
     "execution_count": 15,
     "metadata": {},
     "output_type": "execute_result"
    }
   ],
   "source": [
    "2.0 == 2"
   ]
  },
  {
   "cell_type": "code",
   "execution_count": 27,
   "metadata": {
    "ExecuteTime": {
     "end_time": "2018-07-10T21:25:28.938685Z",
     "start_time": "2018-07-10T21:25:28.930246Z"
    },
    "hideCode": false,
    "hidePrompt": false
   },
   "outputs": [
    {
     "data": {
      "text/plain": [
       "True"
      ]
     },
     "execution_count": 27,
     "metadata": {},
     "output_type": "execute_result"
    }
   ],
   "source": [
    "2.0 == 2.0 # Equal value"
   ]
  },
  {
   "cell_type": "code",
   "execution_count": 28,
   "metadata": {
    "ExecuteTime": {
     "end_time": "2018-07-10T21:25:37.423607Z",
     "start_time": "2018-07-10T21:25:37.411000Z"
    },
    "hideCode": false,
    "hidePrompt": false
   },
   "outputs": [
    {
     "data": {
      "text/plain": [
       "False"
      ]
     },
     "execution_count": 28,
     "metadata": {},
     "output_type": "execute_result"
    }
   ],
   "source": [
    "2.0 != 2.0 # Not equal value"
   ]
  },
  {
   "cell_type": "markdown",
   "metadata": {
    "hideCode": false,
    "hidePrompt": false
   },
   "source": [
    "## Boolean"
   ]
  },
  {
   "cell_type": "markdown",
   "metadata": {
    "hideCode": false,
    "hidePrompt": false
   },
   "source": [
    "Python Boolean type, `bool`, is numeric in nature because its two values, `True` and `False`, are just customized versions of the integers `1` and `0` that print themselves differently.\n",
    "\n",
    "Because `True` is just the integer `1` with a custom display format, `True + 4` yields integer `5` in Python!"
   ]
  },
  {
   "cell_type": "code",
   "execution_count": 32,
   "metadata": {
    "ExecuteTime": {
     "end_time": "2018-07-10T21:33:23.366916Z",
     "start_time": "2018-07-10T21:33:23.359132Z"
    },
    "hideCode": false,
    "hidePrompt": false
   },
   "outputs": [
    {
     "data": {
      "text/plain": [
       "bool"
      ]
     },
     "execution_count": 32,
     "metadata": {},
     "output_type": "execute_result"
    }
   ],
   "source": [
    "type(True)"
   ]
  },
  {
   "cell_type": "code",
   "execution_count": 33,
   "metadata": {
    "ExecuteTime": {
     "end_time": "2018-07-10T21:33:32.349937Z",
     "start_time": "2018-07-10T21:33:32.340578Z"
    },
    "hideCode": false,
    "hidePrompt": false
   },
   "outputs": [
    {
     "data": {
      "text/plain": [
       "True"
      ]
     },
     "execution_count": 33,
     "metadata": {},
     "output_type": "execute_result"
    }
   ],
   "source": [
    "isinstance(True, int)"
   ]
  },
  {
   "cell_type": "code",
   "execution_count": 60,
   "metadata": {
    "ExecuteTime": {
     "end_time": "2018-07-15T23:51:23.715163Z",
     "start_time": "2018-07-15T23:51:23.709253Z"
    }
   },
   "outputs": [
    {
     "data": {
      "text/plain": [
       "False"
      ]
     },
     "execution_count": 60,
     "metadata": {},
     "output_type": "execute_result"
    }
   ],
   "source": [
    "bool(0)"
   ]
  },
  {
   "cell_type": "code",
   "execution_count": 61,
   "metadata": {
    "ExecuteTime": {
     "end_time": "2018-07-15T23:51:31.535365Z",
     "start_time": "2018-07-15T23:51:31.529892Z"
    }
   },
   "outputs": [
    {
     "data": {
      "text/plain": [
       "True"
      ]
     },
     "execution_count": 61,
     "metadata": {},
     "output_type": "execute_result"
    }
   ],
   "source": [
    "bool(1)"
   ]
  },
  {
   "cell_type": "code",
   "execution_count": 34,
   "metadata": {
    "ExecuteTime": {
     "end_time": "2018-07-10T21:33:48.726463Z",
     "start_time": "2018-07-10T21:33:48.718621Z"
    },
    "hideCode": false,
    "hidePrompt": false
   },
   "outputs": [
    {
     "data": {
      "text/plain": [
       "True"
      ]
     },
     "execution_count": 34,
     "metadata": {},
     "output_type": "execute_result"
    }
   ],
   "source": [
    "True == 1 # Same value"
   ]
  },
  {
   "cell_type": "code",
   "execution_count": 36,
   "metadata": {
    "ExecuteTime": {
     "end_time": "2018-07-10T21:34:32.366029Z",
     "start_time": "2018-07-10T21:34:32.360932Z"
    },
    "hideCode": false,
    "hidePrompt": false
   },
   "outputs": [
    {
     "data": {
      "text/plain": [
       "5"
      ]
     },
     "execution_count": 36,
     "metadata": {},
     "output_type": "execute_result"
    }
   ],
   "source": [
    "True + 4 # (Hmmm)"
   ]
  },
  {
   "cell_type": "markdown",
   "metadata": {
    "hideCode": false,
    "hidePrompt": false
   },
   "source": [
    "| Operators | Description |\n",
    "|-----------|------------|\n",
    "| `x if y else z`     |Ternary selection (x is evaluated only if y is true)|\n",
    "| `x or y`     |Logical OR (y is evaluated only if x is false)|\n",
    "| `x and y`       |Logical AND (y is evaluated only if x is true);|\n",
    "| `not x`     | Logical negation |\n",
    "| `x in y`, `x not in y`       |   Membership |\n",
    "| `x is y`, `x is not y`   |  Object identity tests |"
   ]
  },
  {
   "cell_type": "markdown",
   "metadata": {},
   "source": [
    "### Practical assignment\n",
    "\n",
    "You promised to visit you granny on holydays if weather will not be rainy and temperature will be above 15°C or if she fall ill.\n",
    "\n",
    "Now you have following conditions:"
   ]
  },
  {
   "cell_type": "code",
   "execution_count": 4,
   "metadata": {
    "ExecuteTime": {
     "end_time": "2018-07-15T22:13:24.375605Z",
     "start_time": "2018-07-15T22:13:24.370969Z"
    }
   },
   "outputs": [],
   "source": [
    "holyday = True\n",
    "weather = \"cloudy\"\n",
    "temperature = 22\n",
    "ill = False"
   ]
  },
  {
   "cell_type": "markdown",
   "metadata": {},
   "source": [
    "Will you go to your lovely granny? To answer this question write a propram in Python using logical operations."
   ]
  },
  {
   "cell_type": "code",
   "execution_count": null,
   "metadata": {},
   "outputs": [],
   "source": [
    "# write your code here"
   ]
  },
  {
   "cell_type": "markdown",
   "metadata": {},
   "source": [
    "While you have written the code the temperature has changed to 19°C. Will you change the decision?"
   ]
  },
  {
   "cell_type": "code",
   "execution_count": 47,
   "metadata": {
    "ExecuteTime": {
     "end_time": "2018-07-15T23:30:22.387122Z",
     "start_time": "2018-07-15T23:30:22.384129Z"
    }
   },
   "outputs": [],
   "source": [
    "temperature = 19\n",
    "# write your code here"
   ]
  },
  {
   "cell_type": "markdown",
   "metadata": {
    "hideCode": false,
    "hidePrompt": false
   },
   "source": [
    "## Strings"
   ]
  },
  {
   "cell_type": "markdown",
   "metadata": {
    "hideCode": false,
    "hidePrompt": false
   },
   "source": [
    "Python string—an ordered collection of characters used to store and represent text- and bytes-based information."
   ]
  },
  {
   "cell_type": "markdown",
   "metadata": {
    "hideCode": false,
    "hidePrompt": false
   },
   "source": [
    "| Operators          | Interpretation |\n",
    "|--------------------|------------|\n",
    "| `S = ''`            | Empty string|\n",
    "| `S = \"spam's\"`            | Double quotes, same as single|\n",
    "| `S = 's\\np\\ta\\x00m'`            | Escape sequences. Escape sequences let us embed characters in strings that cannot easily be typed on a keyboard. The character \\, and one or more characters following it in the string literal, are replaced with a single character in the resulting string object, which has the binary value specified by the escape sequence.|\n",
    "| `S = \"\"\"...multiline...\"\"\"`   | Triple-quoted block strings, that is a syntactic convenience for coding multiline text data.|\n",
    "| `S1 + S2`   | Concatenate|\n",
    "| `S * 3`   | Repeat|\n",
    "| `S[i]`   | Index|\n",
    "| `S[i:j:k]`   | Slice|\n",
    "| `len(S)`   | Length|"
   ]
  },
  {
   "cell_type": "markdown",
   "metadata": {
    "hideCode": false,
    "hidePrompt": false
   },
   "source": [
    "### Indexing and Slicing\n",
    "\n",
    "Because strings are defined as immutable ordered collections of characters, we can access their components by position. In Python, characters in a string are fetched by indexing— providing the numeric offset of the desired component in square brackets after the string.\n",
    "\n",
    "Python offsets start at 0 and end at one less than the length of the string.\n",
    "\n",
    "Python also lets you fetch items from sequences such as strings using negative offsets. Technically, a negative offset is added to the length of a string to derive a positive offset."
   ]
  },
  {
   "cell_type": "code",
   "execution_count": 55,
   "metadata": {
    "ExecuteTime": {
     "end_time": "2018-07-15T23:50:23.008508Z",
     "start_time": "2018-07-15T23:50:23.001321Z"
    },
    "hideCode": false,
    "hidePrompt": false
   },
   "outputs": [
    {
     "data": {
      "text/plain": [
       "'s'"
      ]
     },
     "execution_count": 55,
     "metadata": {},
     "output_type": "execute_result"
    }
   ],
   "source": [
    "S = 'spam'\n",
    "S = str(\"spam\")\n",
    "S[0]"
   ]
  },
  {
   "cell_type": "code",
   "execution_count": 71,
   "metadata": {
    "ExecuteTime": {
     "end_time": "2018-07-10T22:29:18.073676Z",
     "start_time": "2018-07-10T22:29:18.068312Z"
    },
    "hideCode": false,
    "hidePrompt": false
   },
   "outputs": [
    {
     "data": {
      "text/plain": [
       "'a'"
      ]
     },
     "execution_count": 71,
     "metadata": {},
     "output_type": "execute_result"
    }
   ],
   "source": [
    "S[-2] # fetches the second item from the end (like S[len(S)−2])"
   ]
  },
  {
   "cell_type": "code",
   "execution_count": 72,
   "metadata": {
    "ExecuteTime": {
     "end_time": "2018-07-10T22:29:39.945399Z",
     "start_time": "2018-07-10T22:29:39.941492Z"
    },
    "hideCode": false,
    "hidePrompt": false
   },
   "outputs": [],
   "source": [
    "S = 'abcdefghijklmnop'"
   ]
  },
  {
   "cell_type": "code",
   "execution_count": 74,
   "metadata": {
    "ExecuteTime": {
     "end_time": "2018-07-10T22:29:54.707611Z",
     "start_time": "2018-07-10T22:29:54.702094Z"
    },
    "hideCode": false,
    "hidePrompt": false
   },
   "outputs": [
    {
     "data": {
      "text/plain": [
       "'bdfhj'"
      ]
     },
     "execution_count": 74,
     "metadata": {},
     "output_type": "execute_result"
    }
   ],
   "source": [
    "S[1:10:2] # Skipping items"
   ]
  },
  {
   "cell_type": "code",
   "execution_count": 75,
   "metadata": {
    "ExecuteTime": {
     "end_time": "2018-07-10T22:30:01.483826Z",
     "start_time": "2018-07-10T22:30:01.478482Z"
    },
    "hideCode": false,
    "hidePrompt": false
   },
   "outputs": [
    {
     "data": {
      "text/plain": [
       "'acegikmo'"
      ]
     },
     "execution_count": 75,
     "metadata": {},
     "output_type": "execute_result"
    }
   ],
   "source": [
    "S[::2]"
   ]
  },
  {
   "cell_type": "markdown",
   "metadata": {
    "hideCode": false,
    "hidePrompt": false
   },
   "source": [
    "### String Conversion"
   ]
  },
  {
   "cell_type": "code",
   "execution_count": 78,
   "metadata": {
    "ExecuteTime": {
     "end_time": "2018-07-10T22:31:21.314349Z",
     "start_time": "2018-07-10T22:31:21.305931Z"
    },
    "hideCode": false,
    "hidePrompt": false
   },
   "outputs": [
    {
     "ename": "TypeError",
     "evalue": "must be str, not int",
     "output_type": "error",
     "traceback": [
      "\u001b[0;31m---------------------------------------------------------------------------\u001b[0m",
      "\u001b[0;31mTypeError\u001b[0m                                 Traceback (most recent call last)",
      "\u001b[0;32m<ipython-input-78-f2e6fcd147b0>\u001b[0m in \u001b[0;36m<module>\u001b[0;34m()\u001b[0m\n\u001b[0;32m----> 1\u001b[0;31m \u001b[0;34m\"42\"\u001b[0m \u001b[0;34m+\u001b[0m \u001b[0;36m1\u001b[0m\u001b[0;34m\u001b[0m\u001b[0m\n\u001b[0m",
      "\u001b[0;31mTypeError\u001b[0m: must be str, not int"
     ]
    }
   ],
   "source": [
    "\"42\" + 1"
   ]
  },
  {
   "cell_type": "code",
   "execution_count": 79,
   "metadata": {
    "ExecuteTime": {
     "end_time": "2018-07-10T22:31:37.976685Z",
     "start_time": "2018-07-10T22:31:37.970536Z"
    },
    "hideCode": false,
    "hidePrompt": false
   },
   "outputs": [
    {
     "data": {
      "text/plain": [
       "'421'"
      ]
     },
     "execution_count": 79,
     "metadata": {},
     "output_type": "execute_result"
    }
   ],
   "source": [
    "\"42\" + str(1)"
   ]
  },
  {
   "cell_type": "markdown",
   "metadata": {
    "hideCode": false,
    "hidePrompt": false
   },
   "source": [
    "### [String Methods](https://docs.python.org/3/library/stdtypes.html#string-methods)"
   ]
  },
  {
   "cell_type": "markdown",
   "metadata": {
    "hideCode": false,
    "hidePrompt": false
   },
   "source": [
    "In Python, expressions and built-in functions may work across a range of types, but methods are generally specific to object types — string methods, for example, work only on string objects."
   ]
  },
  {
   "cell_type": "markdown",
   "metadata": {
    "hideCode": false,
    "hidePrompt": false
   },
   "source": [
    "| Methods          | Interpretation |\n",
    "|--------------------|------------|\n",
    "| `S.split()` |Split on delimiter|\n",
    "| `S.rstrip()` |Remove whitespace|\n",
    "| `S.replace('pa', 'xx')` |Replacement|\n",
    "| `S.split(',')` |Split on delimiter|\n",
    "| `S.isdigit()` |Content test|\n",
    "| `S.lower()`, `S.upper()` |Case conversion|\n",
    "| `S.startswith('spam')` |Start test|\n",
    "| `S.endswith('spam')` |End test|\n",
    "| `S.find('spam')` |Search. -1 if no, index if yes|"
   ]
  },
  {
   "cell_type": "markdown",
   "metadata": {},
   "source": [
    "### Practical assignment\n",
    "That is a song by Nirvana.\n",
    "```\n",
    "Rape me, rape me my friend\n",
    "Rape me, rape me again\n",
    "I'm not the only one\n",
    "I'm not the only one\n",
    "I'm not the only one\n",
    "I'm not the only one\n",
    "\n",
    "Hate me\n",
    "Do it and do it again\n",
    "Waste me\n",
    "Rape me, my friend\n",
    "I'm not the only one\n",
    "I'm not the only one\n",
    "I'm not the only one\n",
    "I'm not the only one\n",
    "\n",
    "My favorite inside source\n",
    "I'll kiss your open sores\n",
    "Appreciate your concern\n",
    "You're gonna stink and burn\n",
    "\n",
    "Rape me, rape me my friend\n",
    "Rape me, rape me again\n",
    "I'm not the only one\n",
    "I'm not the only one\n",
    "I'm not the only one\n",
    "I'm not the only one\n",
    "\n",
    "Rape me (rape me)\n",
    "Rape me (rape me)\n",
    "Rape me (rape me)\n",
    "Rape me (rape me)\n",
    "Rape me (rape me)\n",
    "Rape me (rape me)\n",
    "Rape me (rape me)\n",
    "Rape me (rape me)\n",
    "Rape me\n",
    "```"
   ]
  },
  {
   "cell_type": "markdown",
   "metadata": {},
   "source": [
    "1. What is the length of this song?\n",
    "\n",
    "2. Split the song by lines. How many lines it has? Empty lines should not be counted.\n",
    "\n",
    "3. This song sounds a bit depressive, isn't it? Make it more positive by replacing phrase \"rape me\" to \"kiss me\".\n",
    "\n",
    "4. Print this song from end to begining. Try to sing it."
   ]
  },
  {
   "cell_type": "code",
   "execution_count": 24,
   "metadata": {
    "ExecuteTime": {
     "end_time": "2018-07-15T22:53:06.260869Z",
     "start_time": "2018-07-15T22:53:06.257336Z"
    }
   },
   "outputs": [],
   "source": [
    "# write code here"
   ]
  },
  {
   "cell_type": "code",
   "execution_count": 30,
   "metadata": {
    "ExecuteTime": {
     "end_time": "2018-07-15T22:57:34.748954Z",
     "start_time": "2018-07-15T22:57:34.731390Z"
    }
   },
   "outputs": [
    {
     "data": {
      "text/html": [
       "<details><summary>🎉Good job!🎉 Enjoy you prize!</summary><iframe width=\"560\" height=\"315\" src=\"https://www.youtube.com/embed/Ax0C6rlo-54?start=82\" frameborder=\"0\" allowfullscreen></iframe></details>"
      ],
      "text/plain": [
       "<IPython.core.display.HTML object>"
      ]
     },
     "execution_count": 30,
     "metadata": {},
     "output_type": "execute_result"
    }
   ],
   "source": [
    "from IPython.display import HTML\n",
    "HTML('<details><summary>🎉Good job!🎉 Enjoy you prize!</summary><iframe width=\"560\" height=\"315\" src=\"https://www.youtube.com/embed/Ax0C6rlo-54?start=82\" frameborder=\"0\" allowfullscreen></iframe></details>')"
   ]
  },
  {
   "cell_type": "markdown",
   "metadata": {
    "hideCode": false,
    "hidePrompt": false
   },
   "source": [
    "## Lists"
   ]
  },
  {
   "cell_type": "markdown",
   "metadata": {
    "hideCode": false,
    "hidePrompt": false
   },
   "source": [
    "Lists are Python’s most flexible ordered collection object type. Unlike strings, lists can contain any sort of object: numbers, strings, and even other lists. Also, unlike strings, lists may be changed in place by assignment to offsets and slices, list method calls, deletion statements, and more—they are mutable objects."
   ]
  },
  {
   "cell_type": "code",
   "execution_count": 5,
   "metadata": {
    "ExecuteTime": {
     "end_time": "2018-07-14T00:04:10.546020Z",
     "start_time": "2018-07-14T00:04:10.539518Z"
    },
    "hideCode": false,
    "hidePrompt": false
   },
   "outputs": [
    {
     "data": {
      "text/plain": [
       "[]"
      ]
     },
     "execution_count": 5,
     "metadata": {},
     "output_type": "execute_result"
    }
   ],
   "source": [
    "l = [] # An empty list\n",
    "l"
   ]
  },
  {
   "cell_type": "code",
   "execution_count": 9,
   "metadata": {
    "ExecuteTime": {
     "end_time": "2018-07-14T00:06:03.735936Z",
     "start_time": "2018-07-14T00:06:03.728783Z"
    },
    "hideCode": false,
    "hidePrompt": false
   },
   "outputs": [
    {
     "data": {
      "text/plain": [
       "['s', 'p', 'a', 'm']"
      ]
     },
     "execution_count": 9,
     "metadata": {},
     "output_type": "execute_result"
    }
   ],
   "source": [
    "l = list('spam') # List of an iterable’s items\n",
    "l"
   ]
  },
  {
   "cell_type": "code",
   "execution_count": 7,
   "metadata": {
    "ExecuteTime": {
     "end_time": "2018-07-14T00:04:34.584433Z",
     "start_time": "2018-07-14T00:04:34.579079Z"
    },
    "hideCode": false,
    "hidePrompt": false
   },
   "outputs": [
    {
     "data": {
      "text/plain": [
       "[123, 'abc', 1.23, {}]"
      ]
     },
     "execution_count": 7,
     "metadata": {},
     "output_type": "execute_result"
    }
   ],
   "source": [
    "l = [123, 'abc', 1.23, {}] # Four items: indexes 0..3\n",
    "l"
   ]
  },
  {
   "cell_type": "code",
   "execution_count": 125,
   "metadata": {
    "ExecuteTime": {
     "end_time": "2018-07-16T00:39:42.707068Z",
     "start_time": "2018-07-16T00:39:42.703677Z"
    },
    "hideCode": false,
    "hidePrompt": false
   },
   "outputs": [],
   "source": [
    "l = ['Sasha', 40.0, ['analyst', 'manager']] # Nested sublists"
   ]
  },
  {
   "cell_type": "code",
   "execution_count": 126,
   "metadata": {
    "ExecuteTime": {
     "end_time": "2018-07-16T00:39:43.349229Z",
     "start_time": "2018-07-16T00:39:43.344601Z"
    },
    "hideCode": false,
    "hidePrompt": false
   },
   "outputs": [
    {
     "data": {
      "text/plain": [
       "['Sasha', 3, ['analyst', 'manager']]"
      ]
     },
     "execution_count": 126,
     "metadata": {},
     "output_type": "execute_result"
    }
   ],
   "source": [
    "l[1] = 3 # Index assignment\n",
    "l"
   ]
  },
  {
   "cell_type": "code",
   "execution_count": 127,
   "metadata": {
    "ExecuteTime": {
     "end_time": "2018-07-16T00:39:44.549777Z",
     "start_time": "2018-07-16T00:39:44.544613Z"
    },
    "hideCode": false,
    "hidePrompt": false,
    "scrolled": true
   },
   "outputs": [
    {
     "data": {
      "text/plain": [
       "['Sasha', 3, ['analyst', 'manager'], 4]"
      ]
     },
     "execution_count": 127,
     "metadata": {},
     "output_type": "execute_result"
    }
   ],
   "source": [
    "l.append(4)\n",
    "l"
   ]
  },
  {
   "cell_type": "code",
   "execution_count": 128,
   "metadata": {
    "ExecuteTime": {
     "end_time": "2018-07-16T00:39:47.893768Z",
     "start_time": "2018-07-16T00:39:47.888269Z"
    }
   },
   "outputs": [
    {
     "data": {
      "text/plain": [
       "['Sasha', 3, ['analyst', 'manager'], 4, 5, 6, 7]"
      ]
     },
     "execution_count": 128,
     "metadata": {},
     "output_type": "execute_result"
    }
   ],
   "source": [
    "l.extend([5,6,7])\n",
    "l"
   ]
  },
  {
   "cell_type": "code",
   "execution_count": 129,
   "metadata": {
    "ExecuteTime": {
     "end_time": "2018-07-16T00:39:50.387159Z",
     "start_time": "2018-07-16T00:39:50.382178Z"
    }
   },
   "outputs": [
    {
     "data": {
      "text/plain": [
       "['a', 'm', 'p', 's']"
      ]
     },
     "execution_count": 129,
     "metadata": {},
     "output_type": "execute_result"
    }
   ],
   "source": [
    "l = list('spam')\n",
    "l.sort() # Methods: sorting\n",
    "l"
   ]
  },
  {
   "cell_type": "code",
   "execution_count": 122,
   "metadata": {
    "ExecuteTime": {
     "end_time": "2018-07-16T00:38:55.428115Z",
     "start_time": "2018-07-16T00:38:55.422145Z"
    }
   },
   "outputs": [
    {
     "data": {
      "text/plain": [
       "['s', 'p', 'a', 'm', 5, 6, 7]"
      ]
     },
     "execution_count": 122,
     "metadata": {},
     "output_type": "execute_result"
    }
   ],
   "source": [
    "l = list('spam') + [5,6,7]\n",
    "l"
   ]
  },
  {
   "cell_type": "code",
   "execution_count": 123,
   "metadata": {
    "ExecuteTime": {
     "end_time": "2018-07-16T00:38:55.799023Z",
     "start_time": "2018-07-16T00:38:55.790496Z"
    }
   },
   "outputs": [
    {
     "data": {
      "text/plain": [
       "['s', 'a', 'm', 5, 6, 7]"
      ]
     },
     "execution_count": 123,
     "metadata": {},
     "output_type": "execute_result"
    }
   ],
   "source": [
    "l.remove(\"p\") # remove by literal\n",
    "l"
   ]
  },
  {
   "cell_type": "code",
   "execution_count": 124,
   "metadata": {
    "ExecuteTime": {
     "end_time": "2018-07-16T00:38:56.897587Z",
     "start_time": "2018-07-16T00:38:56.887913Z"
    }
   },
   "outputs": [
    {
     "data": {
      "text/plain": [
       "['a', 'm', 5, 6, 7]"
      ]
     },
     "execution_count": 124,
     "metadata": {},
     "output_type": "execute_result"
    }
   ],
   "source": [
    "del l[0]\n",
    "l"
   ]
  },
  {
   "cell_type": "markdown",
   "metadata": {},
   "source": [
    "### Practical assignment\n",
    "\n",
    "1. Create a shopping list with `🍎apple`, `🍓strawberry`, `🥕carrot`, `🍌banana`.\n",
    "\n",
    "2. What is the length of this list? Print it.\n",
    "\n",
    "3. Add `🍚rice` to the end of this list.\n",
    "\n",
    "4. Sort shopping list alphabetically for a to z. \n",
    "\n",
    "5. Print last two items of this list.\n",
    "\n",
    "6. You just have remembered that you have allergy on `🍓strawberry`. Replce it with `🍊orange`.\n",
    "\n",
    "7. Bon appétit!"
   ]
  },
  {
   "cell_type": "markdown",
   "metadata": {
    "hideCode": false,
    "hidePrompt": false
   },
   "source": [
    "## Dictionaries"
   ]
  },
  {
   "cell_type": "markdown",
   "metadata": {
    "hideCode": false,
    "hidePrompt": false
   },
   "source": [
    "Dictionaries are sometimes called associative arrays or hashes (especially by users of other scripting languages). They associate a set of values with keys, so you can fetch an item out of a dictionary using the key under which you originally stored it. "
   ]
  },
  {
   "cell_type": "markdown",
   "metadata": {
    "hideCode": false,
    "hidePrompt": false
   },
   "source": [
    "Unlike in a list, items stored in a dictionary aren’t kept in any particular order."
   ]
  },
  {
   "cell_type": "markdown",
   "metadata": {
    "hideCode": false,
    "hidePrompt": false
   },
   "source": [
    "You can change dictionaries in place by assigning to indexes (they are mutable), but they don’t support the sequence operations that work on strings and lists. Because dictionaries are unordered collections, operations that depend on a fixed positional order (e.g., concatenation, slicing) don’t make sense."
   ]
  },
  {
   "cell_type": "code",
   "execution_count": 32,
   "metadata": {
    "ExecuteTime": {
     "end_time": "2018-07-15T23:24:41.410317Z",
     "start_time": "2018-07-15T23:24:41.406562Z"
    },
    "hideCode": false,
    "hidePrompt": false
   },
   "outputs": [],
   "source": [
    "D = {} # Empty dictionary"
   ]
  },
  {
   "cell_type": "code",
   "execution_count": 33,
   "metadata": {
    "ExecuteTime": {
     "end_time": "2018-07-15T23:24:41.680975Z",
     "start_time": "2018-07-15T23:24:41.675366Z"
    },
    "hideCode": false,
    "hidePrompt": false
   },
   "outputs": [],
   "source": [
    "D = {'name': 'Sergey', 'age': 22} # Two-item dictionary\n",
    "D = dict(name='Sergey', age=22) # Alternative construction techniques"
   ]
  },
  {
   "cell_type": "code",
   "execution_count": 34,
   "metadata": {
    "ExecuteTime": {
     "end_time": "2018-07-15T23:24:43.199108Z",
     "start_time": "2018-07-15T23:24:43.191512Z"
    },
    "hideCode": false,
    "hidePrompt": false
   },
   "outputs": [
    {
     "data": {
      "text/plain": [
       "'Sergey'"
      ]
     },
     "execution_count": 34,
     "metadata": {},
     "output_type": "execute_result"
    }
   ],
   "source": [
    "D['name'] # Indexing by key"
   ]
  },
  {
   "cell_type": "code",
   "execution_count": 35,
   "metadata": {
    "ExecuteTime": {
     "end_time": "2018-07-15T23:24:44.312891Z",
     "start_time": "2018-07-15T23:24:44.308980Z"
    },
    "hideCode": false,
    "hidePrompt": false
   },
   "outputs": [],
   "source": [
    "E = {'food': {'name': 'pizza', 'price': 10}} # Nesting"
   ]
  },
  {
   "cell_type": "code",
   "execution_count": 36,
   "metadata": {
    "ExecuteTime": {
     "end_time": "2018-07-15T23:24:46.340047Z",
     "start_time": "2018-07-15T23:24:46.333913Z"
    },
    "hideCode": false,
    "hidePrompt": false
   },
   "outputs": [
    {
     "data": {
      "text/plain": [
       "10"
      ]
     },
     "execution_count": 36,
     "metadata": {},
     "output_type": "execute_result"
    }
   ],
   "source": [
    "E[\"food\"][\"price\"]"
   ]
  },
  {
   "cell_type": "code",
   "execution_count": 37,
   "metadata": {
    "ExecuteTime": {
     "end_time": "2018-07-15T23:24:47.655680Z",
     "start_time": "2018-07-15T23:24:47.652420Z"
    }
   },
   "outputs": [],
   "source": [
    "D.update(E) # merge by keys"
   ]
  },
  {
   "cell_type": "code",
   "execution_count": 38,
   "metadata": {
    "ExecuteTime": {
     "end_time": "2018-07-15T23:24:51.510713Z",
     "start_time": "2018-07-15T23:24:51.499148Z"
    }
   },
   "outputs": [
    {
     "data": {
      "text/plain": [
       "{'name': 'Sergey', 'age': 22, 'food': {'name': 'pizza', 'price': 10}}"
      ]
     },
     "execution_count": 38,
     "metadata": {},
     "output_type": "execute_result"
    }
   ],
   "source": [
    "D"
   ]
  },
  {
   "cell_type": "code",
   "execution_count": 39,
   "metadata": {
    "ExecuteTime": {
     "end_time": "2018-07-15T23:25:11.487460Z",
     "start_time": "2018-07-15T23:25:11.482128Z"
    },
    "hideCode": false,
    "hidePrompt": false
   },
   "outputs": [
    {
     "data": {
      "text/plain": [
       "True"
      ]
     },
     "execution_count": 39,
     "metadata": {},
     "output_type": "execute_result"
    }
   ],
   "source": [
    "'age' in D # Membership: key present test"
   ]
  },
  {
   "cell_type": "code",
   "execution_count": 40,
   "metadata": {
    "ExecuteTime": {
     "end_time": "2018-07-15T23:25:12.496926Z",
     "start_time": "2018-07-15T23:25:12.490829Z"
    },
    "hideCode": false,
    "hidePrompt": false
   },
   "outputs": [
    {
     "data": {
      "text/plain": [
       "dict_keys(['name', 'age', 'food'])"
      ]
     },
     "execution_count": 40,
     "metadata": {},
     "output_type": "execute_result"
    }
   ],
   "source": [
    "D.keys() # Method: all keys"
   ]
  },
  {
   "cell_type": "code",
   "execution_count": 41,
   "metadata": {
    "ExecuteTime": {
     "end_time": "2018-07-15T23:25:16.341597Z",
     "start_time": "2018-07-15T23:25:16.335845Z"
    },
    "hideCode": false,
    "hidePrompt": false
   },
   "outputs": [
    {
     "data": {
      "text/plain": [
       "dict_values(['Sergey', 22, {'name': 'pizza', 'price': 10}])"
      ]
     },
     "execution_count": 41,
     "metadata": {},
     "output_type": "execute_result"
    }
   ],
   "source": [
    "D.values() # Method: all values"
   ]
  },
  {
   "cell_type": "code",
   "execution_count": 42,
   "metadata": {
    "ExecuteTime": {
     "end_time": "2018-07-15T23:25:17.980409Z",
     "start_time": "2018-07-15T23:25:17.974855Z"
    },
    "hideCode": false,
    "hidePrompt": false
   },
   "outputs": [
    {
     "data": {
      "text/plain": [
       "dict_items([('name', 'Sergey'), ('age', 22), ('food', {'name': 'pizza', 'price': 10})])"
      ]
     },
     "execution_count": 42,
     "metadata": {},
     "output_type": "execute_result"
    }
   ],
   "source": [
    "D.items() # Method: all key+value tuples"
   ]
  },
  {
   "cell_type": "code",
   "execution_count": 43,
   "metadata": {
    "ExecuteTime": {
     "end_time": "2018-07-15T23:25:21.348909Z",
     "start_time": "2018-07-15T23:25:21.342453Z"
    },
    "hideCode": false,
    "hidePrompt": false
   },
   "outputs": [
    {
     "data": {
      "text/plain": [
       "{'name': 'Sergey',\n",
       " 'age': 22,\n",
       " 'food': {'name': 'pizza', 'price': 10},\n",
       " 'surname': 'Ivanov'}"
      ]
     },
     "execution_count": 43,
     "metadata": {},
     "output_type": "execute_result"
    }
   ],
   "source": [
    "D[\"surname\"] = \"Ivanov\"\n",
    "D"
   ]
  },
  {
   "cell_type": "code",
   "execution_count": null,
   "metadata": {
    "ExecuteTime": {
     "end_time": "2018-07-10T22:52:04.377156Z",
     "start_time": "2018-07-10T22:52:04.367548Z"
    },
    "hideCode": false,
    "hidePrompt": false
   },
   "outputs": [],
   "source": [
    "del D[\"surname\"]\n",
    "D"
   ]
  },
  {
   "cell_type": "markdown",
   "metadata": {},
   "source": [
    "### Practical assignment\n",
    "\n",
    "Create a data structue, to store this information:\n",
    "\n",
    "User Sasha Berg ordered a one pepperoni pizza and two bottles of Coca-cola."
   ]
  },
  {
   "cell_type": "code",
   "execution_count": 44,
   "metadata": {
    "ExecuteTime": {
     "end_time": "2018-07-15T23:26:35.255256Z",
     "start_time": "2018-07-15T23:26:35.251931Z"
    }
   },
   "outputs": [],
   "source": [
    "# write a code"
   ]
  },
  {
   "cell_type": "markdown",
   "metadata": {},
   "source": [
    "Then he changed the changed his mind and replace Pepperoni pizza by two Margherita pizzas. Update our data to reflect the changes."
   ]
  },
  {
   "cell_type": "code",
   "execution_count": 45,
   "metadata": {
    "ExecuteTime": {
     "end_time": "2018-07-15T23:26:38.247215Z",
     "start_time": "2018-07-15T23:26:38.243695Z"
    }
   },
   "outputs": [],
   "source": [
    "# write a code"
   ]
  },
  {
   "cell_type": "markdown",
   "metadata": {
    "hideCode": false,
    "hidePrompt": false
   },
   "source": [
    "# Statements\n",
    "\n",
    "1. Programs are composed of modules.\n",
    "2. Modules contain statements.\n",
    "3. **Statements contain expressions**.\n",
    "4. Expressions create and process objects.\n",
    "\n",
    "Programs written in the Python language are composed of statements and expressions. Expressions process objects and are embedded in statements. Statements code the larger logic of a program’s operation—they use and direct expressions to process the objects we studied in the preceding chapters."
   ]
  },
  {
   "cell_type": "code",
   "execution_count": 21,
   "metadata": {
    "ExecuteTime": {
     "end_time": "2018-07-14T00:35:47.489331Z",
     "start_time": "2018-07-14T00:35:47.477577Z"
    },
    "hideCode": false,
    "hidePrompt": false
   },
   "outputs": [],
   "source": [
    "name = \"Yuri\" # simple assignment statement "
   ]
  },
  {
   "cell_type": "markdown",
   "metadata": {
    "hideCode": false,
    "hidePrompt": false
   },
   "source": [
    "All Python *compound statements* — statements that have other statements nested inside them — follow the same general pattern of a header line terminated in a colon, followed by a nested block of code usually indented underneath the header line, like this:\n",
    "```\n",
    "Header line:\n",
    "    Nested statement block\n",
    "```\n",
    "The colon is required, and omitting it is probably the most common coding mistake among new Python programmers.\n",
    "\n",
    "There is no universal standard on this: four spaces or one tab per level is common, but it’s generally up to you to decide how and how much you wish to indent, but you probably shouldn’t mix tabs and spaces.\n",
    "\n",
    "Although statements normally appear one per line, it is possible to squeeze more than one statement onto a single line in Python by separating them with semicolons:"
   ]
  },
  {
   "cell_type": "code",
   "execution_count": 19,
   "metadata": {
    "ExecuteTime": {
     "end_time": "2018-07-14T00:31:05.377603Z",
     "start_time": "2018-07-14T00:31:05.356764Z"
    },
    "hideCode": false,
    "hidePrompt": false
   },
   "outputs": [
    {
     "name": "stdout",
     "output_type": "stream",
     "text": [
      "3\n"
     ]
    }
   ],
   "source": [
    "a = 1; b = 2; print(a + b) # Three statements on one line"
   ]
  },
  {
   "cell_type": "markdown",
   "metadata": {
    "hideCode": false,
    "hidePrompt": false
   },
   "source": [
    "This is the only place in Python where semicolons are required: as statement separators."
   ]
  },
  {
   "cell_type": "markdown",
   "metadata": {
    "hideCode": false,
    "hidePrompt": false
   },
   "source": [
    "The other special rule for statements is essentially the inverse: you can make a single statement span across multiple lines. To make this work, you simply have to enclose part of your statement in a bracketed pair—parentheses (()), square brackets ([]), or curly braces ({})"
   ]
  },
  {
   "cell_type": "code",
   "execution_count": 48,
   "metadata": {
    "ExecuteTime": {
     "end_time": "2018-07-15T23:32:35.748140Z",
     "start_time": "2018-07-15T23:32:35.740982Z"
    },
    "hideCode": false,
    "hidePrompt": false
   },
   "outputs": [
    {
     "data": {
      "text/plain": [
       "201"
      ]
     },
     "execution_count": 48,
     "metadata": {},
     "output_type": "execute_result"
    }
   ],
   "source": [
    "(\n",
    "    1 +\n",
    "    10 *\n",
    "    20\n",
    ")"
   ]
  },
  {
   "cell_type": "markdown",
   "metadata": {
    "hideCode": false,
    "hidePrompt": false
   },
   "source": [
    "## `if` Statements"
   ]
  },
  {
   "cell_type": "markdown",
   "metadata": {
    "hideCode": false,
    "hidePrompt": false
   },
   "source": [
    "if statement selects actions to perform. It represents much of the logic a Python program.\n",
    "\n",
    "General format:\n",
    "\n",
    "```\n",
    "if test1:          # if test\n",
    "    statements1\n",
    "elif test2:        # Optional elifs\n",
    "    statements2\n",
    "else:              # Optional else\n",
    "    statements3\n",
    "```"
   ]
  },
  {
   "cell_type": "code",
   "execution_count": 25,
   "metadata": {
    "ExecuteTime": {
     "end_time": "2018-07-14T00:41:48.663400Z",
     "start_time": "2018-07-14T00:41:48.659606Z"
    },
    "hideCode": false,
    "hidePrompt": false
   },
   "outputs": [],
   "source": [
    "i = 3"
   ]
  },
  {
   "cell_type": "code",
   "execution_count": 28,
   "metadata": {
    "ExecuteTime": {
     "end_time": "2018-07-14T00:42:09.169878Z",
     "start_time": "2018-07-14T00:42:09.164546Z"
    },
    "hideCode": false,
    "hidePrompt": false
   },
   "outputs": [],
   "source": [
    "if i < 5:\n",
    "    print(True)\n",
    "    i = i + 1"
   ]
  },
  {
   "cell_type": "markdown",
   "metadata": {
    "hideCode": false,
    "hidePrompt": false
   },
   "source": [
    "To handle a false result, code the else:"
   ]
  },
  {
   "cell_type": "code",
   "execution_count": 29,
   "metadata": {
    "ExecuteTime": {
     "end_time": "2018-07-14T00:42:32.666294Z",
     "start_time": "2018-07-14T00:42:32.661797Z"
    },
    "hideCode": false,
    "hidePrompt": false
   },
   "outputs": [
    {
     "name": "stdout",
     "output_type": "stream",
     "text": [
      "False\n"
     ]
    }
   ],
   "source": [
    "if i < 5:\n",
    "    print(True)\n",
    "    i = i + 1\n",
    "else:\n",
    "    print(False)"
   ]
  },
  {
   "cell_type": "code",
   "execution_count": 30,
   "metadata": {
    "ExecuteTime": {
     "end_time": "2018-07-14T00:46:12.386747Z",
     "start_time": "2018-07-14T00:46:12.382093Z"
    },
    "hideCode": false,
    "hidePrompt": false
   },
   "outputs": [
    {
     "name": "stdout",
     "output_type": "stream",
     "text": [
      "Positive\n"
     ]
    }
   ],
   "source": [
    "if i < 0:\n",
    "    print(i/5)\n",
    "elif i > 0:\n",
    "    print(i/3)\n",
    "else:\n",
    "    pass"
   ]
  },
  {
   "cell_type": "code",
   "execution_count": null,
   "metadata": {
    "hideCode": false,
    "hidePrompt": false
   },
   "outputs": [],
   "source": [
    "if i < 0:\n",
    "    print(i/5)\n",
    "else:\n",
    "    if i > 0:\n",
    "        print(i/3)\n",
    "    else:\n",
    "        print(\"error\") # pass"
   ]
  },
  {
   "cell_type": "markdown",
   "metadata": {},
   "source": [
    "### Practical assignment"
   ]
  },
  {
   "cell_type": "markdown",
   "metadata": {
    "hideCode": false,
    "hidePrompt": false
   },
   "source": [
    "What is the other way to write the same program with one-leve indent and without elif? (do nothing if 0)"
   ]
  },
  {
   "cell_type": "code",
   "execution_count": 50,
   "metadata": {
    "ExecuteTime": {
     "end_time": "2018-07-15T23:38:21.109304Z",
     "start_time": "2018-07-15T23:38:21.105834Z"
    },
    "hideCode": false,
    "hidePrompt": false
   },
   "outputs": [],
   "source": [
    "# write your code here"
   ]
  },
  {
   "cell_type": "markdown",
   "metadata": {},
   "source": [
    "Write a simple program which will receive user input and print it in uppercase if it is a string and set it to the power of 2 if it is an odd number and to the power of 3 otherwise. Use `input` function to recive an user input."
   ]
  },
  {
   "cell_type": "code",
   "execution_count": 51,
   "metadata": {
    "ExecuteTime": {
     "end_time": "2018-07-15T23:49:06.739477Z",
     "start_time": "2018-07-15T23:49:04.305390Z"
    }
   },
   "outputs": [
    {
     "name": "stdout",
     "output_type": "stream",
     "text": [
      "3\n"
     ]
    }
   ],
   "source": [
    "inp = input()"
   ]
  },
  {
   "cell_type": "code",
   "execution_count": 62,
   "metadata": {
    "ExecuteTime": {
     "end_time": "2018-07-15T23:52:05.240661Z",
     "start_time": "2018-07-15T23:52:05.237249Z"
    }
   },
   "outputs": [],
   "source": [
    "# write your code here"
   ]
  },
  {
   "cell_type": "markdown",
   "metadata": {
    "hideCode": false,
    "hidePrompt": false
   },
   "source": [
    "## `for` loops\n",
    "\n",
    "`for` can step through the items in any ordered sequence or other iterable object. The for statement works on strings, lists, tuples, and other iterables."
   ]
  },
  {
   "cell_type": "markdown",
   "metadata": {
    "hideCode": false,
    "hidePrompt": false
   },
   "source": [
    "General format:\n",
    "```\n",
    "for target in object:\n",
    "    statements\n",
    "```"
   ]
  },
  {
   "cell_type": "code",
   "execution_count": 36,
   "metadata": {
    "ExecuteTime": {
     "end_time": "2018-07-14T01:03:56.572593Z",
     "start_time": "2018-07-14T01:03:56.553488Z"
    },
    "hideCode": false,
    "hidePrompt": false
   },
   "outputs": [
    {
     "name": "stdout",
     "output_type": "stream",
     "text": [
      "Sasha Robinovich\n",
      "Bob Smith\n",
      "Sasha Grey\n",
      "Max\n"
     ]
    }
   ],
   "source": [
    "names = [\"Sasha Robinovich\", \"Bob Smith\", \"Sasha Grey\", \"Max\"]\n",
    "\n",
    "for name in names:\n",
    "    print(name)"
   ]
  },
  {
   "cell_type": "code",
   "execution_count": 38,
   "metadata": {
    "ExecuteTime": {
     "end_time": "2018-07-14T01:07:15.654649Z",
     "start_time": "2018-07-14T01:07:15.650256Z"
    },
    "hideCode": false,
    "hidePrompt": false
   },
   "outputs": [
    {
     "name": "stdout",
     "output_type": "stream",
     "text": [
      "Sasha Robinovich\n"
     ]
    }
   ],
   "source": [
    "names = [\"Sasha Robinovich\", \"Bob Smith\", \"Sasha Grey\", \"Max\"]\n",
    "\n",
    "for name in names:\n",
    "    if \"Sasha\" in name:\n",
    "        print(name)"
   ]
  },
  {
   "cell_type": "markdown",
   "metadata": {
    "hideCode": false,
    "hidePrompt": false
   },
   "source": [
    "More complete format:\n",
    "```\n",
    "for target in object:\n",
    "    statements\n",
    "else:                   # Optional else part\n",
    "    statements          # If we didn't hit a 'break'\n",
    "```\n",
    "`Else` statement executes if the loop exits without running into a `break` statement.\n",
    "\n",
    "The `break` statement causes an immediate exit from a loop. Because the code that follows it in the loop is not executed if the `break` is reached, you can also sometimes avoid nesting by including a `break`.\n",
    "\n",
    "The `continue` statement causes an immediate jump to the top of a loop. It also sometimes lets you avoid statement nesting. \n",
    "\n",
    "The `pass` statement does nothing at all: it’s an empty statement placeholder."
   ]
  },
  {
   "cell_type": "markdown",
   "metadata": {
    "hideCode": false,
    "hidePrompt": false
   },
   "source": [
    "### Practical assignment 1\n",
    "\n",
    "Print odds numbers from a range from 0 to 50 and save them in a list.\n",
    "\n",
    "> Hint: use function `range()` to create a range."
   ]
  },
  {
   "cell_type": "code",
   "execution_count": null,
   "metadata": {},
   "outputs": [],
   "source": [
    "# write your code here"
   ]
  },
  {
   "cell_type": "markdown",
   "metadata": {},
   "source": [
    "### Practical assignment 2\n",
    "\n",
    "Previously we saw that dictionaries are unordered collections. Write a for loop that prints a dictionary’s items in sorted (ascending) order. (Hint: use the dictionary keys and list sort methods, or the newer sorted built-in function.)"
   ]
  },
  {
   "cell_type": "code",
   "execution_count": null,
   "metadata": {},
   "outputs": [],
   "source": [
    "# write your code here"
   ]
  },
  {
   "cell_type": "markdown",
   "metadata": {},
   "source": [
    "## List Comprehensions\n"
   ]
  },
  {
   "cell_type": "markdown",
   "metadata": {},
   "source": [
    "List comprehensions provide a concise way to create lists. \n",
    "\n",
    "As list comprehension returns list, they consists of brackets containing the expression which needs to be executed for each element along with the for loop to iterate over each element.\n",
    "\n",
    "<img src=\"http://python-3-patterns-idioms-test.readthedocs.io/en/latest/_images/listComprehensions.gif\">"
   ]
  },
  {
   "cell_type": "markdown",
   "metadata": {},
   "source": [
    "### Practical assignment\n",
    "Rewrite \"6.2.1  Practical assignment 1\" using list Comprehensions"
   ]
  },
  {
   "cell_type": "code",
   "execution_count": 134,
   "metadata": {
    "ExecuteTime": {
     "end_time": "2018-07-16T01:02:15.548766Z",
     "start_time": "2018-07-16T01:02:15.544022Z"
    }
   },
   "outputs": [],
   "source": [
    "# write your code here"
   ]
  },
  {
   "cell_type": "markdown",
   "metadata": {
    "hideCode": false,
    "hidePrompt": false
   },
   "source": [
    "## `while` loop\n",
    "\n",
    "It repeatedly executes a block of (normally indented) statements as long as a test at the top keeps evaluating to a true value.\n",
    "```\n",
    "while test:\n",
    "    statements\n",
    "else:\n",
    "    statements\n",
    "```"
   ]
  },
  {
   "cell_type": "code",
   "execution_count": 39,
   "metadata": {
    "ExecuteTime": {
     "end_time": "2018-07-14T01:14:26.957538Z",
     "start_time": "2018-07-14T01:14:26.952848Z"
    },
    "hideCode": false,
    "hidePrompt": false
   },
   "outputs": [
    {
     "name": "stdout",
     "output_type": "stream",
     "text": [
      "0\n",
      "1\n",
      "2\n",
      "3\n",
      "4\n"
     ]
    }
   ],
   "source": [
    "i = 0\n",
    "\n",
    "while i != 5:\n",
    "    print(i)\n",
    "    i += 1"
   ]
  },
  {
   "cell_type": "markdown",
   "metadata": {
    "hideCode": false,
    "hidePrompt": false
   },
   "source": [
    "# Modules\n",
    "\n",
    "1. Programs are composed of modules.\n",
    "2. **Modules contain statements.**\n",
    "3. Statements contain expressions.\n",
    "4. Expressions create and process objects.\n",
    "\n",
    "Python module is the highest-level program organization unit, which packages program code and data for reuse, and provides self-contained namespaces that minimize variable name clashes across your programs."
   ]
  },
  {
   "cell_type": "code",
   "execution_count": 57,
   "metadata": {
    "ExecuteTime": {
     "end_time": "2018-07-14T01:41:49.864580Z",
     "start_time": "2018-07-14T01:41:49.858773Z"
    },
    "hideCode": false,
    "hidePrompt": false
   },
   "outputs": [],
   "source": [
    "import math # import lets a client (importer) fetch a module as a whole"
   ]
  },
  {
   "cell_type": "code",
   "execution_count": 58,
   "metadata": {
    "ExecuteTime": {
     "end_time": "2018-07-14T01:41:51.484998Z",
     "start_time": "2018-07-14T01:41:51.478234Z"
    },
    "hideCode": false,
    "hidePrompt": false
   },
   "outputs": [
    {
     "data": {
      "text/plain": [
       "<module 'math' from '/usr/local/Cellar/python/3.6.5_1/Frameworks/Python.framework/Versions/3.6/lib/python3.6/lib-dynload/math.cpython-36m-darwin.so'>"
      ]
     },
     "execution_count": 58,
     "metadata": {},
     "output_type": "execute_result"
    }
   ],
   "source": [
    "math"
   ]
  },
  {
   "cell_type": "code",
   "execution_count": 47,
   "metadata": {
    "ExecuteTime": {
     "end_time": "2018-07-14T01:35:02.376224Z",
     "start_time": "2018-07-14T01:35:02.371571Z"
    },
    "hideCode": false,
    "hidePrompt": false
   },
   "outputs": [
    {
     "data": {
      "text/plain": [
       "3.141592653589793"
      ]
     },
     "execution_count": 47,
     "metadata": {},
     "output_type": "execute_result"
    }
   ],
   "source": [
    "math.pi # constants"
   ]
  },
  {
   "cell_type": "code",
   "execution_count": 48,
   "metadata": {
    "ExecuteTime": {
     "end_time": "2018-07-14T01:35:07.249378Z",
     "start_time": "2018-07-14T01:35:07.244997Z"
    },
    "hideCode": false,
    "hidePrompt": false
   },
   "outputs": [
    {
     "data": {
      "text/plain": [
       "-1.0"
      ]
     },
     "execution_count": 48,
     "metadata": {},
     "output_type": "execute_result"
    }
   ],
   "source": [
    "math.cos(math.pi)"
   ]
  },
  {
   "cell_type": "code",
   "execution_count": 49,
   "metadata": {
    "ExecuteTime": {
     "end_time": "2018-07-14T01:36:46.834846Z",
     "start_time": "2018-07-14T01:36:46.830313Z"
    },
    "hideCode": false,
    "hidePrompt": false
   },
   "outputs": [],
   "source": [
    "import math as m # The `as` keyword is used for aliasing in Python."
   ]
  },
  {
   "cell_type": "code",
   "execution_count": 53,
   "metadata": {
    "ExecuteTime": {
     "end_time": "2018-07-14T01:37:48.865266Z",
     "start_time": "2018-07-14T01:37:48.861729Z"
    },
    "hideCode": false,
    "hidePrompt": false
   },
   "outputs": [],
   "source": [
    "from math import log, e # `from` allows clients to fetch particular names from a module"
   ]
  },
  {
   "cell_type": "code",
   "execution_count": 54,
   "metadata": {
    "ExecuteTime": {
     "end_time": "2018-07-14T01:37:53.829357Z",
     "start_time": "2018-07-14T01:37:53.821558Z"
    },
    "hideCode": false,
    "hidePrompt": false
   },
   "outputs": [
    {
     "data": {
      "text/plain": [
       "1.0"
      ]
     },
     "execution_count": 54,
     "metadata": {},
     "output_type": "execute_result"
    }
   ],
   "source": [
    "log(e)"
   ]
  },
  {
   "cell_type": "code",
   "execution_count": 59,
   "metadata": {
    "ExecuteTime": {
     "end_time": "2018-07-14T01:42:23.245074Z",
     "start_time": "2018-07-14T01:42:23.241189Z"
    },
    "hideCode": false,
    "hidePrompt": false
   },
   "outputs": [],
   "source": [
    "from math import factorial as fct # `import`, `as` and `from` can be used together"
   ]
  },
  {
   "cell_type": "code",
   "execution_count": 56,
   "metadata": {
    "ExecuteTime": {
     "end_time": "2018-07-14T01:38:34.558290Z",
     "start_time": "2018-07-14T01:38:34.553191Z"
    },
    "hideCode": false,
    "hidePrompt": false
   },
   "outputs": [
    {
     "data": {
      "text/plain": [
       "3628800"
      ]
     },
     "execution_count": 56,
     "metadata": {},
     "output_type": "execute_result"
    }
   ],
   "source": [
    "fct(10)"
   ]
  },
  {
   "cell_type": "markdown",
   "metadata": {},
   "source": [
    "# Files\n",
    "The last major built-in object type that we’ll examine on our object types tour provides a way to access files inside Python programs.\n",
    "\n",
    "In short, the built-in open function creates a Python file object, which serves as a link to a file residing on your machine. After calling open, you can transfer strings of data to and from the associated external file by calling the returned file object’s methods.\n",
    "\n",
    "Compared to the types you’ve seen so far, file objects are somewhat unusual. They are considered a core type because they are created by a built-in function, but they’re not numbers, sequences, or mappings, and they don’t respond to expression operators; they export only methods for common file-processing tasks.\n",
    "\n",
    "To open a file, a program calls the built-in open function, with the external filename first, followed by a processing mode. The call returns a file object, which in turn has methods for data transfer:\n",
    "```\n",
    "========= ===============================================================\n",
    "Character Meaning\n",
    "--------- ---------------------------------------------------------------\n",
    "'r'       open for reading (default)\n",
    "'w'       open for writing, truncating the file first\n",
    "'x'       create a new file and open it for writing\n",
    "'a'       open for writing, appending to the end of the file if it exists\n",
    "'b'       binary mode\n",
    "'t'       text mode (default)\n",
    "```"
   ]
  },
  {
   "cell_type": "code",
   "execution_count": 82,
   "metadata": {
    "ExecuteTime": {
     "end_time": "2018-07-16T00:15:02.391677Z",
     "start_time": "2018-07-16T00:15:02.387995Z"
    }
   },
   "outputs": [],
   "source": [
    "file_obj = open(\"data.txt\", \"wt\", encoding=\"utf8\")"
   ]
  },
  {
   "cell_type": "code",
   "execution_count": 83,
   "metadata": {
    "ExecuteTime": {
     "end_time": "2018-07-16T00:15:02.645317Z",
     "start_time": "2018-07-16T00:15:02.633148Z"
    }
   },
   "outputs": [],
   "source": [
    "file_obj.write(\"First line\\n\") # Write a line of text: string\n",
    "file_obj.write(\"Second line\\n\")\n",
    "\n",
    "file_obj.close() # Close the file"
   ]
  },
  {
   "cell_type": "code",
   "execution_count": 100,
   "metadata": {
    "ExecuteTime": {
     "end_time": "2018-07-16T00:16:44.240513Z",
     "start_time": "2018-07-16T00:16:44.235620Z"
    }
   },
   "outputs": [],
   "source": [
    "file_obj = open(\"data.txt\")"
   ]
  },
  {
   "cell_type": "code",
   "execution_count": 105,
   "metadata": {
    "ExecuteTime": {
     "end_time": "2018-07-16T00:18:05.180086Z",
     "start_time": "2018-07-16T00:18:05.174158Z"
    },
    "scrolled": true
   },
   "outputs": [
    {
     "data": {
      "text/plain": [
       "['First line\\n', 'Second line\\n']"
      ]
     },
     "execution_count": 105,
     "metadata": {},
     "output_type": "execute_result"
    }
   ],
   "source": [
    "file_obj.readlines()"
   ]
  },
  {
   "cell_type": "code",
   "execution_count": 109,
   "metadata": {
    "ExecuteTime": {
     "end_time": "2018-07-16T00:18:28.427264Z",
     "start_time": "2018-07-16T00:18:28.422042Z"
    }
   },
   "outputs": [
    {
     "data": {
      "text/plain": [
       "0"
      ]
     },
     "execution_count": 109,
     "metadata": {},
     "output_type": "execute_result"
    }
   ],
   "source": [
    "file_obj.seek(0)"
   ]
  },
  {
   "cell_type": "code",
   "execution_count": 110,
   "metadata": {
    "ExecuteTime": {
     "end_time": "2018-07-16T00:18:29.316804Z",
     "start_time": "2018-07-16T00:18:29.309867Z"
    }
   },
   "outputs": [
    {
     "name": "stdout",
     "output_type": "stream",
     "text": [
      "FIRST LINE\n",
      "SECOND LINE\n"
     ]
    }
   ],
   "source": [
    "for line in file_obj:\n",
    "    print(line.upper(), end=\"\")"
   ]
  },
  {
   "cell_type": "code",
   "execution_count": 111,
   "metadata": {
    "ExecuteTime": {
     "end_time": "2018-07-16T00:18:35.793734Z",
     "start_time": "2018-07-16T00:18:35.790103Z"
    }
   },
   "outputs": [],
   "source": [
    "file_obj.close()"
   ]
  },
  {
   "cell_type": "markdown",
   "metadata": {
    "hideCode": false,
    "hidePrompt": false
   },
   "source": [
    "## Practical assignment"
   ]
  },
  {
   "cell_type": "markdown",
   "metadata": {},
   "source": [
    "Some guys [scraped tweets](https://www.kaggle.com/fifthtribe/how-isis-uses-twitter/home) from 100+ pro-ISIS fanboys from all over the world since the November 2015 Paris Attacks.\n",
    "\n",
    "Example of such tweet:\n",
    "\n",
    "> RT @maaj19: سَمِعْنَا وَ أطَعْنَا #gd #gd#fdfd @allah\n",
    "\n",
    "I saved random sample of these tweets in a file \"tweets_IS.txt\", one tweet per line. Read the file and do the following tasks:\n",
    "1. Calculate the distribution of hashtags. What is the most populat hashtag in these tweets?\n",
    "2. Calculate the distribution of mentions. What is the most populat user mentioned in these tweets?\n",
    "3. What is the longest tweet?"
   ]
  },
  {
   "cell_type": "code",
   "execution_count": null,
   "metadata": {},
   "outputs": [],
   "source": [
    "# write your code here"
   ]
  },
  {
   "cell_type": "markdown",
   "metadata": {},
   "source": [
    "# Function"
   ]
  },
  {
   "cell_type": "markdown",
   "metadata": {},
   "source": [
    "Function is a device that groups a set of statements so they can be run more than once in a programa packaged procedure invoked by name. Functions also can compute a result value and let us specify parameters that serve as function inputs and may differ each time the code is run. \n",
    "\n",
    "Functions are also the most basic program structure Python provides for maximizing code reuse. As we’ll see, functions let us split complex systems into manageable parts. By implementing each part as a function, we make it both reusable and easier to code.\n",
    "\n",
    "General format:\n",
    "```\n",
    "def name(arg1, arg2,... argN):\n",
    "    statements\n",
    "    return value # optional part\n",
    "```\n",
    "\n",
    "As with all compound Python statements, def consists of a header line followed by a block of statements, usually indented (or a simple statement after the colon). The statement block becomes the function’s body — that is, the code Python executes each time the function is later called.\n",
    "\n",
    "The Python return statement can show up anywhere in a function body; when reached, it ends the function call and sends a result back to the caller."
   ]
  },
  {
   "cell_type": "markdown",
   "metadata": {
    "ExecuteTime": {
     "end_time": "2018-07-16T00:46:27.751901Z",
     "start_time": "2018-07-16T00:46:27.746212Z"
    }
   },
   "source": [
    "Lets define a function:"
   ]
  },
  {
   "cell_type": "code",
   "execution_count": 131,
   "metadata": {
    "ExecuteTime": {
     "end_time": "2018-07-16T00:46:53.736632Z",
     "start_time": "2018-07-16T00:46:53.732993Z"
    }
   },
   "outputs": [],
   "source": [
    "def times(x, y): # Create and assign function\n",
    "    return x * y # Body executed when called"
   ]
  },
  {
   "cell_type": "code",
   "execution_count": 132,
   "metadata": {
    "ExecuteTime": {
     "end_time": "2018-07-16T00:47:15.817463Z",
     "start_time": "2018-07-16T00:47:15.811002Z"
    }
   },
   "outputs": [
    {
     "data": {
      "text/plain": [
       "8"
      ]
     },
     "execution_count": 132,
     "metadata": {},
     "output_type": "execute_result"
    }
   ],
   "source": [
    "times(2, 4) # Arguments in parentheses"
   ]
  },
  {
   "cell_type": "code",
   "execution_count": 133,
   "metadata": {
    "ExecuteTime": {
     "end_time": "2018-07-16T00:48:10.096638Z",
     "start_time": "2018-07-16T00:48:10.092102Z"
    }
   },
   "outputs": [
    {
     "data": {
      "text/plain": [
       "'lolololo'"
      ]
     },
     "execution_count": 133,
     "metadata": {},
     "output_type": "execute_result"
    }
   ],
   "source": [
    "x = times(\"lo\", 4) # Save the result object\n",
    "x"
   ]
  },
  {
   "cell_type": "markdown",
   "metadata": {},
   "source": [
    "Functions can accept default arguments. These arguments can either be specified by the caller or left blank to automatically receive a predefined value."
   ]
  },
  {
   "cell_type": "code",
   "execution_count": 3,
   "metadata": {
    "ExecuteTime": {
     "end_time": "2018-07-16T14:23:47.505063Z",
     "start_time": "2018-07-16T14:23:47.501079Z"
    }
   },
   "outputs": [],
   "source": [
    "def power(x, power=2): # to the power of 2 by default\n",
    "    return x ** power # Body executed when called"
   ]
  },
  {
   "cell_type": "code",
   "execution_count": 4,
   "metadata": {
    "ExecuteTime": {
     "end_time": "2018-07-16T14:23:47.850153Z",
     "start_time": "2018-07-16T14:23:47.844747Z"
    }
   },
   "outputs": [
    {
     "data": {
      "text/plain": [
       "9"
      ]
     },
     "execution_count": 4,
     "metadata": {},
     "output_type": "execute_result"
    }
   ],
   "source": [
    "power(3)"
   ]
  },
  {
   "cell_type": "code",
   "execution_count": 6,
   "metadata": {
    "ExecuteTime": {
     "end_time": "2018-07-16T14:24:07.170973Z",
     "start_time": "2018-07-16T14:24:07.165739Z"
    },
    "scrolled": true
   },
   "outputs": [
    {
     "data": {
      "text/plain": [
       "3"
      ]
     },
     "execution_count": 6,
     "metadata": {},
     "output_type": "execute_result"
    }
   ],
   "source": [
    "power(3, 1)"
   ]
  },
  {
   "cell_type": "markdown",
   "metadata": {},
   "source": [
    "## Lambda functions\n"
   ]
  },
  {
   "cell_type": "markdown",
   "metadata": {},
   "source": [
    "Besides the def statement, Python also provides an expression form that generates function objects, it’s called lambda.\n",
    "\n",
    "Like def, this expression creates a function to be called later, but it returns the function instead of assigning it to a name. This is why lambdas are sometimes known as anonymous (i.e., unnamed) functions. In practice, they are often used as a way to inline a function definition.\n",
    "\n",
    "The lambda’s general form is the keyword lambda, followed by one or more arguments (exactly like the arguments list you enclose in parentheses in a def header), followed by an expression after a colon:\n",
    "\n",
    "```\n",
    "lambda argument1, argument2,... argumentN : expression using arguments\n",
    "```"
   ]
  },
  {
   "cell_type": "code",
   "execution_count": 7,
   "metadata": {
    "ExecuteTime": {
     "end_time": "2018-07-16T21:17:03.897731Z",
     "start_time": "2018-07-16T21:17:03.884637Z"
    }
   },
   "outputs": [],
   "source": [
    "def power(x, power=2):\n",
    "    return x ** power"
   ]
  },
  {
   "cell_type": "code",
   "execution_count": 13,
   "metadata": {
    "ExecuteTime": {
     "end_time": "2018-07-16T21:19:59.879915Z",
     "start_time": "2018-07-16T21:19:59.876964Z"
    }
   },
   "outputs": [],
   "source": [
    "power = lambda x, power=2: x**power"
   ]
  },
  {
   "cell_type": "markdown",
   "metadata": {},
   "source": [
    "There are a few differences that make lambdas useful in specialized roles:\n",
    "\n",
    "1. **lambda is an expression, not a statement.** Because of this, a lambda can appear in places a def is not allowed by Python’s syntax—inside a list literal or a function call’s arguments, for example. With def, functions can be referenced by name but must be created elsewhere. As an expression, lambda returns a value (a new func- tion) that can optionally be assigned a name. In contrast, the def statement always assigns the new function to the name in the header, instead of returning it as a result.\n",
    "\n",
    "2. **lambda’s body is a single expression, not a block of statements.**"
   ]
  },
  {
   "cell_type": "markdown",
   "metadata": {},
   "source": [
    "### Why Use lambda?"
   ]
  },
  {
   "cell_type": "markdown",
   "metadata": {},
   "source": [
    "Take a look at the `sorted` function. It returns a new list containing all items from the iterable in ascending order."
   ]
  },
  {
   "cell_type": "code",
   "execution_count": null,
   "metadata": {},
   "outputs": [],
   "source": [
    "sorted()"
   ]
  },
  {
   "cell_type": "markdown",
   "metadata": {},
   "source": [
    "Lets create a list of random numbers with module random."
   ]
  },
  {
   "cell_type": "code",
   "execution_count": 19,
   "metadata": {
    "ExecuteTime": {
     "end_time": "2018-07-16T21:32:54.452271Z",
     "start_time": "2018-07-16T21:32:54.446810Z"
    }
   },
   "outputs": [
    {
     "data": {
      "text/plain": [
       "[28, 61, 3, 11, 96, 73, 33, 28, 93, 32]"
      ]
     },
     "execution_count": 19,
     "metadata": {},
     "output_type": "execute_result"
    }
   ],
   "source": [
    "import random\n",
    "# Return a k sized list of population elements chosen with replacement.\n",
    "random_list = random.choices(range(100), k=10)\n",
    "random_list"
   ]
  },
  {
   "cell_type": "code",
   "execution_count": 20,
   "metadata": {
    "ExecuteTime": {
     "end_time": "2018-07-16T21:33:10.622815Z",
     "start_time": "2018-07-16T21:33:10.615797Z"
    }
   },
   "outputs": [
    {
     "data": {
      "text/plain": [
       "[3, 11, 28, 28, 32, 33, 61, 73, 93, 96]"
      ]
     },
     "execution_count": 20,
     "metadata": {},
     "output_type": "execute_result"
    }
   ],
   "source": [
    "sorted(random_list)"
   ]
  },
  {
   "cell_type": "markdown",
   "metadata": {},
   "source": [
    "`sorted` function has an argument `key`, which accept a custom key function can be supplied to customize the sort order. It is useful when we want to sort by nested element."
   ]
  },
  {
   "cell_type": "code",
   "execution_count": 25,
   "metadata": {
    "ExecuteTime": {
     "end_time": "2018-07-16T21:43:56.792591Z",
     "start_time": "2018-07-16T21:43:56.782286Z"
    }
   },
   "outputs": [],
   "source": [
    "orders = [\n",
    "    {\n",
    "        \"name\": \"pizza pepperoni\",\n",
    "        \"price\": 12,\n",
    "        \"amount\": 1\n",
    "    },\n",
    "    {\n",
    "        \"name\": \"Coca-cola\",\n",
    "        \"price\": 4,\n",
    "        \"amount\": 2\n",
    "    },\n",
    "    {\n",
    "        \"name\": \"Cupcake\",\n",
    "        \"price\": 3,\n",
    "        \"amount\": 10\n",
    "    }\n",
    "]"
   ]
  },
  {
   "cell_type": "code",
   "execution_count": 26,
   "metadata": {
    "ExecuteTime": {
     "end_time": "2018-07-16T21:43:57.058094Z",
     "start_time": "2018-07-16T21:43:57.047273Z"
    }
   },
   "outputs": [
    {
     "data": {
      "text/plain": [
       "[{'name': 'Cupcake', 'price': 3, 'amount': 10},\n",
       " {'name': 'Coca-cola', 'price': 4, 'amount': 2},\n",
       " {'name': 'pizza pepperoni', 'price': 12, 'amount': 1}]"
      ]
     },
     "execution_count": 26,
     "metadata": {},
     "output_type": "execute_result"
    }
   ],
   "source": [
    "sorted(orders, key=lambda el: el[\"price\"])"
   ]
  },
  {
   "cell_type": "code",
   "execution_count": 27,
   "metadata": {
    "ExecuteTime": {
     "end_time": "2018-07-16T21:43:57.816148Z",
     "start_time": "2018-07-16T21:43:57.810320Z"
    }
   },
   "outputs": [
    {
     "data": {
      "text/plain": [
       "[{'name': 'Cupcake', 'price': 3, 'amount': 10},\n",
       " {'name': 'Coca-cola', 'price': 4, 'amount': 2},\n",
       " {'name': 'pizza pepperoni', 'price': 12, 'amount': 1}]"
      ]
     },
     "execution_count": 27,
     "metadata": {},
     "output_type": "execute_result"
    }
   ],
   "source": [
    "# it is the same as \n",
    "def sort_function(el):\n",
    "    return el[\"price\"]\n",
    "\n",
    "sorted(orders, key=sort_function)"
   ]
  },
  {
   "cell_type": "markdown",
   "metadata": {},
   "source": [
    "### Practical assignment\n",
    "There is a mistake in a previous example. Orders must be sorted in another way. Why? Write correct answer."
   ]
  },
  {
   "cell_type": "code",
   "execution_count": null,
   "metadata": {},
   "outputs": [],
   "source": []
  }
 ],
 "metadata": {
  "hide_code_all_hidden": false,
  "kernelspec": {
   "display_name": "Python 3",
   "language": "python",
   "name": "python3"
  },
  "language_info": {
   "codemirror_mode": {
    "name": "ipython",
    "version": 3
   },
   "file_extension": ".py",
   "mimetype": "text/x-python",
   "name": "python",
   "nbconvert_exporter": "python",
   "pygments_lexer": "ipython3",
   "version": "3.6.5"
  },
  "toc": {
   "nav_menu": {},
   "number_sections": true,
   "sideBar": true,
   "skip_h1_title": false,
   "toc_cell": false,
   "toc_position": {},
   "toc_section_display": "block",
   "toc_window_display": false
  }
 },
 "nbformat": 4,
 "nbformat_minor": 2
}
