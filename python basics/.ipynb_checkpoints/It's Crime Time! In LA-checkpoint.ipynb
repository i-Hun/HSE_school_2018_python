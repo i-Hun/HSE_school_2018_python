{
 "cells": [
  {
   "cell_type": "markdown",
   "metadata": {},
   "source": [
    "# Practical assignment. It's Crime Time! In LA\n",
    "![](https://twt-thumbs.washtimes.com/media/image/2015/03/01/LAPD_c0-125-3000-1874_s885x516.jpg?e43693b8f69ad1565f64bb01d7d7c5afb9aa165b)"
   ]
  },
  {
   "cell_type": "markdown",
   "metadata": {},
   "source": [
    "This dataset reflects incidents of crime in the City of Los Angeles dating back to 2010. This data is transcribed from original crime reports that are typed on paper and therefore there may be some inaccuracies within the data. Some location fields with missing data are noted as (0°, 0°). Address fields are only provided to the nearest hundred block in order to maintain privacy."
   ]
  },
  {
   "cell_type": "markdown",
   "metadata": {},
   "source": [
    "1. Load data from `Crime_Data_2010_2017_sample.csv` using [read_csv function](https://pandas.pydata.org/pandas-docs/stable/generated/pandas.read_csv.html).\n",
    "\n",
    "## Explore the data in general\n",
    "2. How many rows and columns are in the table?\n",
    "3. What are the columns names? (HINT: `column`)\n",
    "4. What datatypes they have? (HINT: `dtype` ot `info()`)\n",
    "5. How many unique values are in each column? (HINT: `nunique`)\n",
    "6. How many missing values they have? (HINT: use `isnull` and `sum`)"
   ]
  },
  {
   "cell_type": "markdown",
   "metadata": {
    "ExecuteTime": {
     "end_time": "2018-07-17T20:51:32.149314Z",
     "start_time": "2018-07-17T20:51:32.143502Z"
    }
   },
   "source": [
    "Then explore the Data for the Victims. We particulary intrested in knowing whether Victim's Age, Sex or Descent have something in common.\n",
    "\n",
    "## Age\n",
    "1. What is the average **age** in this sample? What is the distridution of **age**, draw a plot.\n",
    "4. Is Age a Factor? People of what age are most often subjected to crimes? Draw a plot which will show a difference.\n",
    "\n",
    "## Sex\n",
    "\n",
    "NB: consider only men, women and people with unknown sex.\n",
    "\n",
    "1. Are Female being targeted more then Males? Draw a plot which will show a difference.\n",
    "2. What is the distridution of **sex**? draw a plot.\n",
    "7. How many times are women more likely to be victims?\n",
    "8. How does the probability of women and men differ by age? Draw a plot.\n",
    "1. In what age range do men more often become crime victims?\n",
    "\n",
    "## Descent\n",
    "Descent Code:\n",
    "\n",
    "1. Recode the variable:\n",
    "* A - Other Asian\n",
    "* B - Black\n",
    "* C - Chinese \n",
    "* D - Cambodian \n",
    "* F - Filipino \n",
    "* G - Guamanian \n",
    "* H - Hispanic/Latin/Mexican \n",
    "* I - American Indian/Alaskan Native \n",
    "* J - Japanese \n",
    "* K - Korean \n",
    "* L - Laotian \n",
    "* O - Other \n",
    "* P - Pacific Islander \n",
    "* S - Samoan \n",
    "* U - Hawaiian \n",
    "* V - Vietnamese \n",
    "* W - White \n",
    "* X - Unknown \n",
    "* Z - Asian Indian\n",
    "\n",
    "\n",
    "2. What is the distribution of **descent**, draw a plot.\n",
    "5. Does People from certain descent being target the most? Draw a plot which will show a difference.\n",
    "3. Is there a difference in term of sex? (In which ethnic groups are women more likely to suffer from crimes, and in which are men?)\n",
    "\n",
    "## Area\n",
    "1. Sort the areas by the number of crimes. Build a graph showing the safest and most dangerous areas.\n",
    "2. Identify 10 of the most common crimes in LA. Build a graph."
   ]
  },
  {
   "cell_type": "code",
   "execution_count": null,
   "metadata": {},
   "outputs": [],
   "source": []
  },
  {
   "cell_type": "code",
   "execution_count": null,
   "metadata": {},
   "outputs": [],
   "source": []
  }
 ],
 "metadata": {
  "kernelspec": {
   "display_name": "Python 3",
   "language": "python",
   "name": "python3"
  },
  "language_info": {
   "codemirror_mode": {
    "name": "ipython",
    "version": 3
   },
   "file_extension": ".py",
   "mimetype": "text/x-python",
   "name": "python",
   "nbconvert_exporter": "python",
   "pygments_lexer": "ipython3",
   "version": "3.6.5"
  },
  "toc": {
   "nav_menu": {},
   "number_sections": true,
   "sideBar": true,
   "skip_h1_title": false,
   "toc_cell": false,
   "toc_position": {},
   "toc_section_display": "block",
   "toc_window_display": false
  }
 },
 "nbformat": 4,
 "nbformat_minor": 2
}
