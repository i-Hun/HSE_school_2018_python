{
 "cells": [
  {
   "cell_type": "markdown",
   "metadata": {},
   "source": [
    "# How Jupyter works\n",
    "Help > User Interface Tour"
   ]
  },
  {
   "cell_type": "markdown",
   "metadata": {
    "hideCode": false,
    "hidePrompt": false
   },
   "source": [
    "# Simple program"
   ]
  },
  {
   "cell_type": "markdown",
   "metadata": {
    "hideCode": false,
    "hidePrompt": false
   },
   "source": [
    "Try to guess what will be the output of this simple program."
   ]
  },
  {
   "cell_type": "code",
   "execution_count": null,
   "metadata": {},
   "outputs": [],
   "source": [
    "names = [\"Sasha Robinovich\", \"Bob Smith\", \"Sasha Greene\", \"Max\"]\n",
    "\n",
    "for name in names:\n",
    "    if \"Sasha\" in name:\n",
    "        print(name)"
   ]
  },
  {
   "cell_type": "markdown",
   "metadata": {
    "hideCode": false,
    "hidePrompt": false
   },
   "source": [
    "# Python program structure\n",
    "1. Programs are composed of modules.\n",
    "2. Modules contain statements.\n",
    "3. Statements contain expressions.\n",
    "4. **Expressions create and process objects.**"
   ]
  },
  {
   "cell_type": "markdown",
   "metadata": {
    "hideCode": false,
    "hidePrompt": false
   },
   "source": [
    "# Variables"
   ]
  },
  {
   "cell_type": "code",
   "execution_count": 6,
   "metadata": {
    "ExecuteTime": {
     "end_time": "2018-07-14T13:46:31.051755Z",
     "start_time": "2018-07-14T13:46:31.047925Z"
    },
    "hideCode": false,
    "hidePrompt": false
   },
   "outputs": [],
   "source": [
    "a = 3"
   ]
  },
  {
   "cell_type": "markdown",
   "metadata": {
    "hideCode": false,
    "hidePrompt": false
   },
   "source": [
    "**Variables** of certain data type used to code their literals. **Variables** are simply names—created by you or Python—that are used to keep track of information in your program. A variable (i.e., name), like `a`, is created when your code first assigns it a value. Future assignments change the value of the already created name.\n",
    "\n",
    "A variable never has any type information or constraints associated with it. The notion of type lives with objects, not names. Variables are generic in nature; they always simply refer to a particular object at a particular point in time.\n",
    "\n",
    "Term **literal** simply means an expression whose syntax generates an object.\n",
    "\n",
    "* Variables are created when they are first assigned values.\n",
    "* Variables are replaced with their values when used in expressions.\n",
    "* Variables must be assigned before they can be used in expressions.\n",
    "* Variables refer to objects and are never declared ahead of time."
   ]
  },
  {
   "cell_type": "code",
   "execution_count": 55,
   "metadata": {
    "ExecuteTime": {
     "end_time": "2018-07-10T22:12:27.925644Z",
     "start_time": "2018-07-10T22:12:27.921424Z"
    },
    "hideCode": false,
    "hidePrompt": false
   },
   "outputs": [],
   "source": [
    "a = 'spam' # Now it's a string"
   ]
  },
  {
   "cell_type": "code",
   "execution_count": 19,
   "metadata": {
    "ExecuteTime": {
     "end_time": "2018-07-10T21:07:33.960754Z",
     "start_time": "2018-07-10T21:07:33.955170Z"
    },
    "hideCode": false,
    "hidePrompt": false
   },
   "outputs": [
    {
     "data": {
      "text/plain": [
       "7"
      ]
     },
     "execution_count": 19,
     "metadata": {},
     "output_type": "execute_result"
    }
   ],
   "source": [
    "a = 3 # Name created: not declared ahead of time\n",
    "b = 4\n",
    "c = a + b\n",
    "c"
   ]
  },
  {
   "cell_type": "code",
   "execution_count": 18,
   "metadata": {
    "ExecuteTime": {
     "end_time": "2018-07-10T21:07:27.158471Z",
     "start_time": "2018-07-10T21:07:27.153616Z"
    },
    "hideCode": false,
    "hidePrompt": false
   },
   "outputs": [
    {
     "data": {
      "text/plain": [
       "7"
      ]
     },
     "execution_count": 18,
     "metadata": {},
     "output_type": "execute_result"
    }
   ],
   "source": [
    "3 + 4"
   ]
  },
  {
   "cell_type": "markdown",
   "metadata": {
    "hideCode": false,
    "hidePrompt": false
   },
   "source": [
    "I’ve also used a **comment** here. Recall that in Python code, text after a `#` mark and continuing to the end of the line is considered to be a comment and is ignored by Python. Comments are a way to write human-readable documentation for your code."
   ]
  },
  {
   "cell_type": "markdown",
   "metadata": {
    "hideCode": false,
    "hidePrompt": false
   },
   "source": [
    "# Core data types its operators"
   ]
  },
  {
   "cell_type": "markdown",
   "metadata": {
    "hideCode": false,
    "hidePrompt": false
   },
   "source": [
    "\n",
    "| Data type | Example literals/creation |\n",
    "|-----------|------------|\n",
    "| Numbers     |`1234`, `3.1415`, `3+4j`|\n",
    "| Strings     |`'spam'`, `\"Bob's\"` |\n",
    "| Lists       |`[1, [2, 'three'], 4.5]`, `list(range(10))` |\n",
    "| Dictionaries         |          `{'food': 'spam', 'taste': 'yum'}`, `dict(hours=10)` |\n",
    "| Tuples       |       `(1, 'spam', 4, 'U')`, `tuple('spam')` |\n",
    "| Sets    |     `set('abc')`, `{'a', 'b', 'c'}` |\n",
    "|Other core types| Booleans, types, None|\n"
   ]
  },
  {
   "cell_type": "markdown",
   "metadata": {
    "ExecuteTime": {
     "end_time": "2018-07-10T20:42:02.111904Z",
     "start_time": "2018-07-10T20:42:01.933924Z"
    },
    "hideCode": false,
    "hidePrompt": false
   },
   "source": [
    "## Numbers"
   ]
  },
  {
   "cell_type": "markdown",
   "metadata": {
    "hideCode": false,
    "hidePrompt": false
   },
   "source": [
    "* **integers** that have no fractional part. Integers are written as strings of decimal digits.\n",
    "* **floating-point** numbers have a decimal point and/or an optional signed exponent introduced by an e or E and followed by an optional sign.\n",
    "* **complex**. Python complex literals are written as realpart+imaginarypart, where the imaginarypart is terminated with a j or J."
   ]
  },
  {
   "cell_type": "code",
   "execution_count": 2,
   "metadata": {
    "ExecuteTime": {
     "end_time": "2018-07-10T20:48:08.456777Z",
     "start_time": "2018-07-10T20:48:08.453835Z"
    },
    "hideCode": false,
    "hidePrompt": false
   },
   "outputs": [],
   "source": [
    "integer = 1234"
   ]
  },
  {
   "cell_type": "code",
   "execution_count": 5,
   "metadata": {
    "ExecuteTime": {
     "end_time": "2018-07-10T20:48:43.025309Z",
     "start_time": "2018-07-10T20:48:43.021814Z"
    },
    "hideCode": false,
    "hidePrompt": false
   },
   "outputs": [],
   "source": [
    "integer_negative = -24"
   ]
  },
  {
   "cell_type": "code",
   "execution_count": 6,
   "metadata": {
    "ExecuteTime": {
     "end_time": "2018-07-10T20:49:11.051351Z",
     "start_time": "2018-07-10T20:49:11.047893Z"
    },
    "hideCode": false,
    "hidePrompt": false
   },
   "outputs": [],
   "source": [
    "float_number = 1.23"
   ]
  },
  {
   "cell_type": "code",
   "execution_count": 7,
   "metadata": {
    "ExecuteTime": {
     "end_time": "2018-07-10T20:49:55.541387Z",
     "start_time": "2018-07-10T20:49:55.538030Z"
    },
    "hideCode": false,
    "hidePrompt": false
   },
   "outputs": [],
   "source": [
    "float_engineer = 3.14e-10"
   ]
  },
  {
   "cell_type": "code",
   "execution_count": 11,
   "metadata": {
    "ExecuteTime": {
     "end_time": "2018-07-10T20:51:53.031738Z",
     "start_time": "2018-07-10T20:51:53.028229Z"
    },
    "hideCode": false,
    "hidePrompt": false
   },
   "outputs": [],
   "source": [
    "complex_num = 3+4j"
   ]
  },
  {
   "cell_type": "markdown",
   "metadata": {
    "hideCode": false,
    "hidePrompt": false
   },
   "source": [
    "### Operations with numbers"
   ]
  },
  {
   "cell_type": "markdown",
   "metadata": {
    "hideCode": false,
    "hidePrompt": false
   },
   "source": [
    "| Operators | Description |\n",
    "|-----------|------------|\n",
    "| `x + y`     |Addition|\n",
    "| `x – y`     |Subtraction|\n",
    "| `x * y`       |Multiplication;|\n",
    "| `x % y`     | Remainder |\n",
    "| `x / y`, `x // y`       |   Division: true and floor |\n",
    "| `−x`   |  Negation |\n",
    "| `x ** y`| Power|"
   ]
  },
  {
   "cell_type": "markdown",
   "metadata": {
    "hideCode": false,
    "hidePrompt": false
   },
   "source": [
    "When you write an expression with more than one operator, Python groups its parts according to what are called precedence rules, and this grouping determines the order in which the expression’s parts are computed. Table is ordered by operator precedence: operators lower in the table have higher precedence.\n",
    "\n",
    "You can forget about precedence completely if you’re careful to group parts of expressions with parentheses. When you enclose subexpressions in parentheses, you override Python’s precedence rules; Python always evaluates expressions in parentheses first before using their results in the enclosing expressions."
   ]
  },
  {
   "cell_type": "code",
   "execution_count": 29,
   "metadata": {
    "ExecuteTime": {
     "end_time": "2018-07-10T21:27:09.896192Z",
     "start_time": "2018-07-10T21:27:09.881828Z"
    },
    "hideCode": false,
    "hidePrompt": false
   },
   "outputs": [
    {
     "data": {
      "text/plain": [
       "11.5"
      ]
     },
     "execution_count": 29,
     "metadata": {},
     "output_type": "execute_result"
    }
   ],
   "source": [
    "2.3 * 5"
   ]
  },
  {
   "cell_type": "markdown",
   "metadata": {
    "hideCode": false,
    "hidePrompt": false
   },
   "source": [
    "Notice how mixed types are allowed in numeric expressions. In mixed-type numeric expressions, Python first converts operands up to the type of the most complicated operand, and then performs the math on same-type operands"
   ]
  },
  {
   "cell_type": "code",
   "execution_count": 31,
   "metadata": {
    "ExecuteTime": {
     "end_time": "2018-07-10T21:29:47.325510Z",
     "start_time": "2018-07-10T21:29:47.294336Z"
    },
    "hideCode": false,
    "hidePrompt": false
   },
   "outputs": [
    {
     "data": {
      "text/plain": [
       "2"
      ]
     },
     "execution_count": 31,
     "metadata": {},
     "output_type": "execute_result"
    }
   ],
   "source": [
    "10 // 4 # truncates remainder"
   ]
  },
  {
   "cell_type": "markdown",
   "metadata": {
    "ExecuteTime": {
     "end_time": "2018-07-10T21:08:20.451070Z",
     "start_time": "2018-07-10T21:08:20.446007Z"
    },
    "hideCode": false,
    "hidePrompt": false
   },
   "source": [
    "> Calculate the following expression: $\\frac{4^{12}}{6^8}⋅\\sqrt{3245} - 10000 $"
   ]
  },
  {
   "cell_type": "code",
   "execution_count": 3,
   "metadata": {
    "ExecuteTime": {
     "end_time": "2018-07-16T13:36:35.766293Z",
     "start_time": "2018-07-16T13:36:35.751060Z"
    },
    "hideCode": false,
    "hidePrompt": false
   },
   "outputs": [
    {
     "data": {
      "text/plain": [
       "-9430.993479190196"
      ]
     },
     "execution_count": 3,
     "metadata": {},
     "output_type": "execute_result"
    }
   ],
   "source": [
    "(4**12)/(6**8)*(3245**0.5)-10000"
   ]
  },
  {
   "cell_type": "markdown",
   "metadata": {
    "hideCode": false,
    "hidePrompt": false
   },
   "source": [
    "### Comparisons"
   ]
  },
  {
   "cell_type": "code",
   "execution_count": 25,
   "metadata": {
    "ExecuteTime": {
     "end_time": "2018-07-10T21:24:48.282046Z",
     "start_time": "2018-07-10T21:24:48.271608Z"
    },
    "hideCode": false,
    "hidePrompt": false
   },
   "outputs": [
    {
     "data": {
      "text/plain": [
       "True"
      ]
     },
     "execution_count": 25,
     "metadata": {},
     "output_type": "execute_result"
    }
   ],
   "source": [
    "1 < 2 # Less than"
   ]
  },
  {
   "cell_type": "code",
   "execution_count": 26,
   "metadata": {
    "ExecuteTime": {
     "end_time": "2018-07-10T21:25:06.690148Z",
     "start_time": "2018-07-10T21:25:06.683384Z"
    },
    "hideCode": false,
    "hidePrompt": false
   },
   "outputs": [
    {
     "data": {
      "text/plain": [
       "True"
      ]
     },
     "execution_count": 26,
     "metadata": {},
     "output_type": "execute_result"
    }
   ],
   "source": [
    "2.0 >= 1 # Greater than or equal: mixed-type 1 converted to 1.0"
   ]
  },
  {
   "cell_type": "code",
   "execution_count": 15,
   "metadata": {
    "ExecuteTime": {
     "end_time": "2018-07-14T13:59:14.481458Z",
     "start_time": "2018-07-14T13:59:14.474566Z"
    }
   },
   "outputs": [
    {
     "data": {
      "text/plain": [
       "True"
      ]
     },
     "execution_count": 15,
     "metadata": {},
     "output_type": "execute_result"
    }
   ],
   "source": [
    "2.0 == 2"
   ]
  },
  {
   "cell_type": "code",
   "execution_count": 27,
   "metadata": {
    "ExecuteTime": {
     "end_time": "2018-07-10T21:25:28.938685Z",
     "start_time": "2018-07-10T21:25:28.930246Z"
    },
    "hideCode": false,
    "hidePrompt": false
   },
   "outputs": [
    {
     "data": {
      "text/plain": [
       "True"
      ]
     },
     "execution_count": 27,
     "metadata": {},
     "output_type": "execute_result"
    }
   ],
   "source": [
    "2.0 == 2.0 # Equal value"
   ]
  },
  {
   "cell_type": "code",
   "execution_count": 28,
   "metadata": {
    "ExecuteTime": {
     "end_time": "2018-07-10T21:25:37.423607Z",
     "start_time": "2018-07-10T21:25:37.411000Z"
    },
    "hideCode": false,
    "hidePrompt": false
   },
   "outputs": [
    {
     "data": {
      "text/plain": [
       "False"
      ]
     },
     "execution_count": 28,
     "metadata": {},
     "output_type": "execute_result"
    }
   ],
   "source": [
    "2.0 != 2.0 # Not equal value"
   ]
  },
  {
   "cell_type": "markdown",
   "metadata": {
    "hideCode": false,
    "hidePrompt": false
   },
   "source": [
    "## Boolean"
   ]
  },
  {
   "cell_type": "markdown",
   "metadata": {
    "hideCode": false,
    "hidePrompt": false
   },
   "source": [
    "Python Boolean type, `bool`, is numeric in nature because its two values, `True` and `False`, are just customized versions of the integers `1` and `0` that print themselves differently.\n",
    "\n",
    "Because `True` is just the integer `1` with a custom display format, `True + 4` yields integer `5` in Python!"
   ]
  },
  {
   "cell_type": "code",
   "execution_count": 32,
   "metadata": {
    "ExecuteTime": {
     "end_time": "2018-07-10T21:33:23.366916Z",
     "start_time": "2018-07-10T21:33:23.359132Z"
    },
    "hideCode": false,
    "hidePrompt": false
   },
   "outputs": [
    {
     "data": {
      "text/plain": [
       "bool"
      ]
     },
     "execution_count": 32,
     "metadata": {},
     "output_type": "execute_result"
    }
   ],
   "source": [
    "type(True)"
   ]
  },
  {
   "cell_type": "code",
   "execution_count": 33,
   "metadata": {
    "ExecuteTime": {
     "end_time": "2018-07-10T21:33:32.349937Z",
     "start_time": "2018-07-10T21:33:32.340578Z"
    },
    "hideCode": false,
    "hidePrompt": false
   },
   "outputs": [
    {
     "data": {
      "text/plain": [
       "True"
      ]
     },
     "execution_count": 33,
     "metadata": {},
     "output_type": "execute_result"
    }
   ],
   "source": [
    "isinstance(True, int)"
   ]
  },
  {
   "cell_type": "code",
   "execution_count": 60,
   "metadata": {
    "ExecuteTime": {
     "end_time": "2018-07-15T23:51:23.715163Z",
     "start_time": "2018-07-15T23:51:23.709253Z"
    }
   },
   "outputs": [
    {
     "data": {
      "text/plain": [
       "False"
      ]
     },
     "execution_count": 60,
     "metadata": {},
     "output_type": "execute_result"
    }
   ],
   "source": [
    "bool(0)"
   ]
  },
  {
   "cell_type": "code",
   "execution_count": 61,
   "metadata": {
    "ExecuteTime": {
     "end_time": "2018-07-15T23:51:31.535365Z",
     "start_time": "2018-07-15T23:51:31.529892Z"
    }
   },
   "outputs": [
    {
     "data": {
      "text/plain": [
       "True"
      ]
     },
     "execution_count": 61,
     "metadata": {},
     "output_type": "execute_result"
    }
   ],
   "source": [
    "bool(1)"
   ]
  },
  {
   "cell_type": "code",
   "execution_count": 34,
   "metadata": {
    "ExecuteTime": {
     "end_time": "2018-07-10T21:33:48.726463Z",
     "start_time": "2018-07-10T21:33:48.718621Z"
    },
    "hideCode": false,
    "hidePrompt": false
   },
   "outputs": [
    {
     "data": {
      "text/plain": [
       "True"
      ]
     },
     "execution_count": 34,
     "metadata": {},
     "output_type": "execute_result"
    }
   ],
   "source": [
    "True == 1 # Same value"
   ]
  },
  {
   "cell_type": "code",
   "execution_count": 36,
   "metadata": {
    "ExecuteTime": {
     "end_time": "2018-07-10T21:34:32.366029Z",
     "start_time": "2018-07-10T21:34:32.360932Z"
    },
    "hideCode": false,
    "hidePrompt": false
   },
   "outputs": [
    {
     "data": {
      "text/plain": [
       "5"
      ]
     },
     "execution_count": 36,
     "metadata": {},
     "output_type": "execute_result"
    }
   ],
   "source": [
    "True + 4 # (Hmmm)"
   ]
  },
  {
   "cell_type": "markdown",
   "metadata": {
    "hideCode": false,
    "hidePrompt": false
   },
   "source": [
    "| Operators | Description |\n",
    "|-----------|------------|\n",
    "| `x if y else z`     |Ternary selection (x is evaluated only if y is true)|\n",
    "| `x or y`     |Logical OR (y is evaluated only if x is false)|\n",
    "| `x and y`       |Logical AND (y is evaluated only if x is true);|\n",
    "| `not x`     | Logical negation |\n",
    "| `x in y`, `x not in y`       |   Membership |\n",
    "| `x is y`, `x is not y`   |  Object identity tests |"
   ]
  },
  {
   "cell_type": "markdown",
   "metadata": {},
   "source": [
    "### Practical assignment\n",
    "\n",
    "You promised to visit you granny on holydays if weather will not be rainy and temperature will be above 15°C or if she fall ill.\n",
    "\n",
    "Now you have following conditions:"
   ]
  },
  {
   "cell_type": "code",
   "execution_count": 5,
   "metadata": {
    "ExecuteTime": {
     "end_time": "2018-07-16T13:37:42.975666Z",
     "start_time": "2018-07-16T13:37:42.969860Z"
    }
   },
   "outputs": [],
   "source": [
    "holyday = True\n",
    "weather = \"cloudy\"\n",
    "temperature = 22\n",
    "ill = False"
   ]
  },
  {
   "cell_type": "markdown",
   "metadata": {},
   "source": [
    "Will you go to your lovely granny? To answer this question write a propram in Python using logical operations."
   ]
  },
  {
   "cell_type": "code",
   "execution_count": 6,
   "metadata": {
    "ExecuteTime": {
     "end_time": "2018-07-16T13:37:43.930468Z",
     "start_time": "2018-07-16T13:37:43.918268Z"
    }
   },
   "outputs": [
    {
     "data": {
      "text/plain": [
       "True"
      ]
     },
     "execution_count": 6,
     "metadata": {},
     "output_type": "execute_result"
    }
   ],
   "source": [
    "# write your code here\n",
    "((weather is not \"rainy\") and (temperature > 15)) or ill"
   ]
  },
  {
   "cell_type": "markdown",
   "metadata": {},
   "source": [
    "While you have written the code the temperature has changed to 19°C. Will you change the decision?"
   ]
  },
  {
   "cell_type": "code",
   "execution_count": 7,
   "metadata": {
    "ExecuteTime": {
     "end_time": "2018-07-16T13:37:49.112750Z",
     "start_time": "2018-07-16T13:37:49.108628Z"
    }
   },
   "outputs": [],
   "source": [
    "temperature = 13"
   ]
  },
  {
   "cell_type": "code",
   "execution_count": 8,
   "metadata": {
    "ExecuteTime": {
     "end_time": "2018-07-16T13:37:55.628667Z",
     "start_time": "2018-07-16T13:37:55.623700Z"
    }
   },
   "outputs": [
    {
     "data": {
      "text/plain": [
       "False"
      ]
     },
     "execution_count": 8,
     "metadata": {},
     "output_type": "execute_result"
    }
   ],
   "source": [
    "((weather is not \"rainy\") and (temperature > 15)) or ill"
   ]
  },
  {
   "cell_type": "markdown",
   "metadata": {
    "hideCode": false,
    "hidePrompt": false
   },
   "source": [
    "## Strings"
   ]
  },
  {
   "cell_type": "markdown",
   "metadata": {
    "hideCode": false,
    "hidePrompt": false
   },
   "source": [
    "Python string—an ordered collection of characters used to store and represent text- and bytes-based information."
   ]
  },
  {
   "cell_type": "markdown",
   "metadata": {
    "hideCode": false,
    "hidePrompt": false
   },
   "source": [
    "| Operators          | Interpretation |\n",
    "|--------------------|------------|\n",
    "| `S = ''`            | Empty string|\n",
    "| `S = \"spam's\"`            | Double quotes, same as single|\n",
    "| `S = 's\\np\\ta\\x00m'`            | Escape sequences. Escape sequences let us embed characters in strings that cannot easily be typed on a keyboard. The character \\, and one or more characters following it in the string literal, are replaced with a single character in the resulting string object, which has the binary value specified by the escape sequence.|\n",
    "| `S = \"\"\"...multiline...\"\"\"`   | Triple-quoted block strings, that is a syntactic convenience for coding multiline text data.|\n",
    "| `S1 + S2`   | Concatenate|\n",
    "| `S * 3`   | Repeat|\n",
    "| `S[i]`   | Index|\n",
    "| `S[i:j:k]`   | Slice|\n",
    "| `len(S)`   | Length|"
   ]
  },
  {
   "cell_type": "markdown",
   "metadata": {
    "hideCode": false,
    "hidePrompt": false
   },
   "source": [
    "### Indexing and Slicing\n",
    "\n",
    "Because strings are defined as immutable ordered collections of characters, we can access their components by position. In Python, characters in a string are fetched by indexing— providing the numeric offset of the desired component in square brackets after the string.\n",
    "\n",
    "Python offsets start at 0 and end at one less than the length of the string.\n",
    "\n",
    "Python also lets you fetch items from sequences such as strings using negative offsets. Technically, a negative offset is added to the length of a string to derive a positive offset."
   ]
  },
  {
   "cell_type": "code",
   "execution_count": 55,
   "metadata": {
    "ExecuteTime": {
     "end_time": "2018-07-15T23:50:23.008508Z",
     "start_time": "2018-07-15T23:50:23.001321Z"
    },
    "hideCode": false,
    "hidePrompt": false
   },
   "outputs": [
    {
     "data": {
      "text/plain": [
       "'s'"
      ]
     },
     "execution_count": 55,
     "metadata": {},
     "output_type": "execute_result"
    }
   ],
   "source": [
    "S = 'spam'\n",
    "S = str(\"spam\")\n",
    "S[0]"
   ]
  },
  {
   "cell_type": "code",
   "execution_count": 71,
   "metadata": {
    "ExecuteTime": {
     "end_time": "2018-07-10T22:29:18.073676Z",
     "start_time": "2018-07-10T22:29:18.068312Z"
    },
    "hideCode": false,
    "hidePrompt": false
   },
   "outputs": [
    {
     "data": {
      "text/plain": [
       "'a'"
      ]
     },
     "execution_count": 71,
     "metadata": {},
     "output_type": "execute_result"
    }
   ],
   "source": [
    "S[-2] # fetches the second item from the end (like S[len(S)−2])"
   ]
  },
  {
   "cell_type": "code",
   "execution_count": 72,
   "metadata": {
    "ExecuteTime": {
     "end_time": "2018-07-10T22:29:39.945399Z",
     "start_time": "2018-07-10T22:29:39.941492Z"
    },
    "hideCode": false,
    "hidePrompt": false
   },
   "outputs": [],
   "source": [
    "S = 'abcdefghijklmnop'"
   ]
  },
  {
   "cell_type": "code",
   "execution_count": 74,
   "metadata": {
    "ExecuteTime": {
     "end_time": "2018-07-10T22:29:54.707611Z",
     "start_time": "2018-07-10T22:29:54.702094Z"
    },
    "hideCode": false,
    "hidePrompt": false
   },
   "outputs": [
    {
     "data": {
      "text/plain": [
       "'bdfhj'"
      ]
     },
     "execution_count": 74,
     "metadata": {},
     "output_type": "execute_result"
    }
   ],
   "source": [
    "S[1:10:2] # Skipping items"
   ]
  },
  {
   "cell_type": "code",
   "execution_count": 75,
   "metadata": {
    "ExecuteTime": {
     "end_time": "2018-07-10T22:30:01.483826Z",
     "start_time": "2018-07-10T22:30:01.478482Z"
    },
    "hideCode": false,
    "hidePrompt": false
   },
   "outputs": [
    {
     "data": {
      "text/plain": [
       "'acegikmo'"
      ]
     },
     "execution_count": 75,
     "metadata": {},
     "output_type": "execute_result"
    }
   ],
   "source": [
    "S[::2]"
   ]
  },
  {
   "cell_type": "markdown",
   "metadata": {
    "hideCode": false,
    "hidePrompt": false
   },
   "source": [
    "### String Conversion"
   ]
  },
  {
   "cell_type": "code",
   "execution_count": 78,
   "metadata": {
    "ExecuteTime": {
     "end_time": "2018-07-10T22:31:21.314349Z",
     "start_time": "2018-07-10T22:31:21.305931Z"
    },
    "hideCode": false,
    "hidePrompt": false
   },
   "outputs": [
    {
     "ename": "TypeError",
     "evalue": "must be str, not int",
     "output_type": "error",
     "traceback": [
      "\u001b[0;31m---------------------------------------------------------------------------\u001b[0m",
      "\u001b[0;31mTypeError\u001b[0m                                 Traceback (most recent call last)",
      "\u001b[0;32m<ipython-input-78-f2e6fcd147b0>\u001b[0m in \u001b[0;36m<module>\u001b[0;34m()\u001b[0m\n\u001b[0;32m----> 1\u001b[0;31m \u001b[0;34m\"42\"\u001b[0m \u001b[0;34m+\u001b[0m \u001b[0;36m1\u001b[0m\u001b[0;34m\u001b[0m\u001b[0m\n\u001b[0m",
      "\u001b[0;31mTypeError\u001b[0m: must be str, not int"
     ]
    }
   ],
   "source": [
    "\"42\" + 1"
   ]
  },
  {
   "cell_type": "code",
   "execution_count": 79,
   "metadata": {
    "ExecuteTime": {
     "end_time": "2018-07-10T22:31:37.976685Z",
     "start_time": "2018-07-10T22:31:37.970536Z"
    },
    "hideCode": false,
    "hidePrompt": false
   },
   "outputs": [
    {
     "data": {
      "text/plain": [
       "'421'"
      ]
     },
     "execution_count": 79,
     "metadata": {},
     "output_type": "execute_result"
    }
   ],
   "source": [
    "\"42\" + str(1)"
   ]
  },
  {
   "cell_type": "markdown",
   "metadata": {
    "hideCode": false,
    "hidePrompt": false
   },
   "source": [
    "### [String Methods](https://docs.python.org/3/library/stdtypes.html#string-methods)"
   ]
  },
  {
   "cell_type": "markdown",
   "metadata": {
    "hideCode": false,
    "hidePrompt": false
   },
   "source": [
    "In Python, expressions and built-in functions may work across a range of types, but methods are generally specific to object types — string methods, for example, work only on string objects."
   ]
  },
  {
   "cell_type": "markdown",
   "metadata": {
    "hideCode": false,
    "hidePrompt": false
   },
   "source": [
    "| Methods          | Interpretation |\n",
    "|--------------------|------------|\n",
    "| `S.split()` |Split on delimiter|\n",
    "| `S.rstrip()` |Remove whitespace|\n",
    "| `S.replace('pa', 'xx')` |Replacement|\n",
    "| `S.split(',')` |Split on delimiter|\n",
    "| `S.isdigit()` |Content test|\n",
    "| `S.lower()`, `S.upper()` |Case conversion|\n",
    "| `S.startswith('spam')` |Start test|\n",
    "| `S.endswith('spam')` |End test|\n",
    "| `S.find('spam')` |Search. -1 if no, index if yes|"
   ]
  },
  {
   "cell_type": "markdown",
   "metadata": {},
   "source": [
    "### Practical assignment\n",
    "That is a song by Nirvana.\n",
    "```\n",
    "Rape me, rape me my friend\n",
    "Rape me, rape me again\n",
    "I'm not the only one\n",
    "I'm not the only one\n",
    "I'm not the only one\n",
    "I'm not the only one\n",
    "\n",
    "Hate me\n",
    "Do it and do it again\n",
    "Waste me\n",
    "Rape me, my friend\n",
    "I'm not the only one\n",
    "I'm not the only one\n",
    "I'm not the only one\n",
    "I'm not the only one\n",
    "\n",
    "My favorite inside source\n",
    "I'll kiss your open sores\n",
    "Appreciate your concern\n",
    "You're gonna stink and burn\n",
    "\n",
    "Rape me, rape me my friend\n",
    "Rape me, rape me again\n",
    "I'm not the only one\n",
    "I'm not the only one\n",
    "I'm not the only one\n",
    "I'm not the only one\n",
    "\n",
    "Rape me (rape me)\n",
    "Rape me (rape me)\n",
    "Rape me (rape me)\n",
    "Rape me (rape me)\n",
    "Rape me (rape me)\n",
    "Rape me (rape me)\n",
    "Rape me (rape me)\n",
    "Rape me (rape me)\n",
    "Rape me\n",
    "```"
   ]
  },
  {
   "cell_type": "markdown",
   "metadata": {},
   "source": [
    "1. What is the length of this song?\n",
    "\n",
    "2. Split the song by lines. How many lines it has? Empty lines should not be counted.\n",
    "\n",
    "3. This song sounds a bit depressive, isn't it? Make it more positive by replacing phrase \"rape me\" to \"kiss me\".\n",
    "\n",
    "4. Print this song from end to begining. Try to sing it."
   ]
  },
  {
   "cell_type": "code",
   "execution_count": 10,
   "metadata": {
    "ExecuteTime": {
     "end_time": "2018-07-16T13:39:12.812761Z",
     "start_time": "2018-07-16T13:39:12.807026Z"
    }
   },
   "outputs": [],
   "source": [
    "# write code here\n",
    "song = '''Rape me, rape me my friend\n",
    "Rape me, rape me again\n",
    "I'm not the only one\n",
    "I'm not the only one\n",
    "I'm not the only one\n",
    "I'm not the only one\n",
    "\n",
    "Hate me\n",
    "Do it and do it again\n",
    "Waste me\n",
    "Rape me, my friend\n",
    "I'm not the only one\n",
    "I'm not the only one\n",
    "I'm not the only one\n",
    "I'm not the only one\n",
    "\n",
    "My favorite inside source\n",
    "I'll kiss your open sores\n",
    "Appreciate your concern\n",
    "You're gonna stink and burn\n",
    "\n",
    "Rape me, rape me my friend\n",
    "Rape me, rape me again\n",
    "I'm not the only one\n",
    "I'm not the only one\n",
    "I'm not the only one\n",
    "I'm not the only one\n",
    "\n",
    "Rape me (rape me)\n",
    "Rape me (rape me)\n",
    "Rape me (rape me)\n",
    "Rape me (rape me)\n",
    "Rape me (rape me)\n",
    "Rape me (rape me)\n",
    "Rape me (rape me)\n",
    "Rape me (rape me)\n",
    "Rape me'''"
   ]
  },
  {
   "cell_type": "code",
   "execution_count": 11,
   "metadata": {
    "ExecuteTime": {
     "end_time": "2018-07-16T13:39:13.123669Z",
     "start_time": "2018-07-16T13:39:13.114465Z"
    }
   },
   "outputs": [
    {
     "data": {
      "text/plain": [
       "669"
      ]
     },
     "execution_count": 11,
     "metadata": {},
     "output_type": "execute_result"
    }
   ],
   "source": [
    "len(song) # What is the length of this song?"
   ]
  },
  {
   "cell_type": "code",
   "execution_count": 12,
   "metadata": {
    "ExecuteTime": {
     "end_time": "2018-07-16T13:39:43.830716Z",
     "start_time": "2018-07-16T13:39:43.825772Z"
    }
   },
   "outputs": [
    {
     "data": {
      "text/plain": [
       "37"
      ]
     },
     "execution_count": 12,
     "metadata": {},
     "output_type": "execute_result"
    }
   ],
   "source": [
    "len(song.split(\"\\n\"))# Split the song by lines. How many lines it has? Empty lines should not be counted."
   ]
  },
  {
   "cell_type": "code",
   "execution_count": 13,
   "metadata": {
    "ExecuteTime": {
     "end_time": "2018-07-16T13:40:50.989865Z",
     "start_time": "2018-07-16T13:40:50.986362Z"
    }
   },
   "outputs": [],
   "source": [
    "# This song sounds a bit depressive, isn't it? Make it more positive by replacing phrase \"rape me\" to \"kiss me\".\n",
    "song = song.replace(\"Rape\", \"Kiss\").replace(\"rape\", \"kiss\")"
   ]
  },
  {
   "cell_type": "code",
   "execution_count": 15,
   "metadata": {
    "ExecuteTime": {
     "end_time": "2018-07-16T13:41:26.391069Z",
     "start_time": "2018-07-16T13:41:26.387309Z"
    }
   },
   "outputs": [
    {
     "name": "stdout",
     "output_type": "stream",
     "text": [
      "em ssiK\n",
      ")em ssik( em ssiK\n",
      ")em ssik( em ssiK\n",
      ")em ssik( em ssiK\n",
      ")em ssik( em ssiK\n",
      ")em ssik( em ssiK\n",
      ")em ssik( em ssiK\n",
      ")em ssik( em ssiK\n",
      ")em ssik( em ssiK\n",
      "\n",
      "eno ylno eht ton m'I\n",
      "eno ylno eht ton m'I\n",
      "eno ylno eht ton m'I\n",
      "eno ylno eht ton m'I\n",
      "niaga em ssik ,em ssiK\n",
      "dneirf ym em ssik ,em ssiK\n",
      "\n",
      "nrub dna knits annog er'uoY\n",
      "nrecnoc ruoy etaicerppA\n",
      "seros nepo ruoy ssik ll'I\n",
      "ecruos edisni etirovaf yM\n",
      "\n",
      "eno ylno eht ton m'I\n",
      "eno ylno eht ton m'I\n",
      "eno ylno eht ton m'I\n",
      "eno ylno eht ton m'I\n",
      "dneirf ym ,em ssiK\n",
      "em etsaW\n",
      "niaga ti od dna ti oD\n",
      "em etaH\n",
      "\n",
      "eno ylno eht ton m'I\n",
      "eno ylno eht ton m'I\n",
      "eno ylno eht ton m'I\n",
      "eno ylno eht ton m'I\n",
      "niaga em ssik ,em ssiK\n",
      "dneirf ym em ssik ,em ssiK\n"
     ]
    }
   ],
   "source": [
    "# Print this song from end to begining. Try to sing it.\n",
    "print(song[::-1])"
   ]
  },
  {
   "cell_type": "code",
   "execution_count": 30,
   "metadata": {
    "ExecuteTime": {
     "end_time": "2018-07-15T22:57:34.748954Z",
     "start_time": "2018-07-15T22:57:34.731390Z"
    }
   },
   "outputs": [
    {
     "data": {
      "text/html": [
       "<details><summary>🎉Good job!🎉 Enjoy you prize!</summary><iframe width=\"560\" height=\"315\" src=\"https://www.youtube.com/embed/Ax0C6rlo-54?start=82\" frameborder=\"0\" allowfullscreen></iframe></details>"
      ],
      "text/plain": [
       "<IPython.core.display.HTML object>"
      ]
     },
     "execution_count": 30,
     "metadata": {},
     "output_type": "execute_result"
    }
   ],
   "source": [
    "from IPython.display import HTML\n",
    "HTML('<details><summary>🎉Good job!🎉 Enjoy you prize!</summary><iframe width=\"560\" height=\"315\" src=\"https://www.youtube.com/embed/Ax0C6rlo-54?start=82\" frameborder=\"0\" allowfullscreen></iframe></details>')"
   ]
  },
  {
   "cell_type": "markdown",
   "metadata": {
    "hideCode": false,
    "hidePrompt": false
   },
   "source": [
    "## Lists"
   ]
  },
  {
   "cell_type": "markdown",
   "metadata": {
    "hideCode": false,
    "hidePrompt": false
   },
   "source": [
    "Lists are Python’s most flexible ordered collection object type. Unlike strings, lists can contain any sort of object: numbers, strings, and even other lists. Also, unlike strings, lists may be changed in place by assignment to offsets and slices, list method calls, deletion statements, and more—they are mutable objects."
   ]
  },
  {
   "cell_type": "code",
   "execution_count": 5,
   "metadata": {
    "ExecuteTime": {
     "end_time": "2018-07-14T00:04:10.546020Z",
     "start_time": "2018-07-14T00:04:10.539518Z"
    },
    "hideCode": false,
    "hidePrompt": false
   },
   "outputs": [
    {
     "data": {
      "text/plain": [
       "[]"
      ]
     },
     "execution_count": 5,
     "metadata": {},
     "output_type": "execute_result"
    }
   ],
   "source": [
    "l = [] # An empty list\n",
    "l"
   ]
  },
  {
   "cell_type": "code",
   "execution_count": 9,
   "metadata": {
    "ExecuteTime": {
     "end_time": "2018-07-14T00:06:03.735936Z",
     "start_time": "2018-07-14T00:06:03.728783Z"
    },
    "hideCode": false,
    "hidePrompt": false
   },
   "outputs": [
    {
     "data": {
      "text/plain": [
       "['s', 'p', 'a', 'm']"
      ]
     },
     "execution_count": 9,
     "metadata": {},
     "output_type": "execute_result"
    }
   ],
   "source": [
    "l = list('spam') # List of an iterable’s items\n",
    "l"
   ]
  },
  {
   "cell_type": "code",
   "execution_count": 7,
   "metadata": {
    "ExecuteTime": {
     "end_time": "2018-07-14T00:04:34.584433Z",
     "start_time": "2018-07-14T00:04:34.579079Z"
    },
    "hideCode": false,
    "hidePrompt": false
   },
   "outputs": [
    {
     "data": {
      "text/plain": [
       "[123, 'abc', 1.23, {}]"
      ]
     },
     "execution_count": 7,
     "metadata": {},
     "output_type": "execute_result"
    }
   ],
   "source": [
    "l = [123, 'abc', 1.23, {}] # Four items: indexes 0..3\n",
    "l"
   ]
  },
  {
   "cell_type": "code",
   "execution_count": 125,
   "metadata": {
    "ExecuteTime": {
     "end_time": "2018-07-16T00:39:42.707068Z",
     "start_time": "2018-07-16T00:39:42.703677Z"
    },
    "hideCode": false,
    "hidePrompt": false
   },
   "outputs": [],
   "source": [
    "l = ['Sasha', 40.0, ['analyst', 'manager']] # Nested sublists"
   ]
  },
  {
   "cell_type": "code",
   "execution_count": 126,
   "metadata": {
    "ExecuteTime": {
     "end_time": "2018-07-16T00:39:43.349229Z",
     "start_time": "2018-07-16T00:39:43.344601Z"
    },
    "hideCode": false,
    "hidePrompt": false
   },
   "outputs": [
    {
     "data": {
      "text/plain": [
       "['Sasha', 3, ['analyst', 'manager']]"
      ]
     },
     "execution_count": 126,
     "metadata": {},
     "output_type": "execute_result"
    }
   ],
   "source": [
    "l[1] = 3 # Index assignment\n",
    "l"
   ]
  },
  {
   "cell_type": "code",
   "execution_count": 127,
   "metadata": {
    "ExecuteTime": {
     "end_time": "2018-07-16T00:39:44.549777Z",
     "start_time": "2018-07-16T00:39:44.544613Z"
    },
    "hideCode": false,
    "hidePrompt": false,
    "scrolled": true
   },
   "outputs": [
    {
     "data": {
      "text/plain": [
       "['Sasha', 3, ['analyst', 'manager'], 4]"
      ]
     },
     "execution_count": 127,
     "metadata": {},
     "output_type": "execute_result"
    }
   ],
   "source": [
    "l.append(4)\n",
    "l"
   ]
  },
  {
   "cell_type": "code",
   "execution_count": 128,
   "metadata": {
    "ExecuteTime": {
     "end_time": "2018-07-16T00:39:47.893768Z",
     "start_time": "2018-07-16T00:39:47.888269Z"
    }
   },
   "outputs": [
    {
     "data": {
      "text/plain": [
       "['Sasha', 3, ['analyst', 'manager'], 4, 5, 6, 7]"
      ]
     },
     "execution_count": 128,
     "metadata": {},
     "output_type": "execute_result"
    }
   ],
   "source": [
    "l.extend([5,6,7])\n",
    "l"
   ]
  },
  {
   "cell_type": "code",
   "execution_count": 129,
   "metadata": {
    "ExecuteTime": {
     "end_time": "2018-07-16T00:39:50.387159Z",
     "start_time": "2018-07-16T00:39:50.382178Z"
    }
   },
   "outputs": [
    {
     "data": {
      "text/plain": [
       "['a', 'm', 'p', 's']"
      ]
     },
     "execution_count": 129,
     "metadata": {},
     "output_type": "execute_result"
    }
   ],
   "source": [
    "l = list('spam')\n",
    "l.sort() # Methods: sorting\n",
    "l"
   ]
  },
  {
   "cell_type": "code",
   "execution_count": 122,
   "metadata": {
    "ExecuteTime": {
     "end_time": "2018-07-16T00:38:55.428115Z",
     "start_time": "2018-07-16T00:38:55.422145Z"
    }
   },
   "outputs": [
    {
     "data": {
      "text/plain": [
       "['s', 'p', 'a', 'm', 5, 6, 7]"
      ]
     },
     "execution_count": 122,
     "metadata": {},
     "output_type": "execute_result"
    }
   ],
   "source": [
    "l = list('spam') + [5,6,7]\n",
    "l"
   ]
  },
  {
   "cell_type": "code",
   "execution_count": 123,
   "metadata": {
    "ExecuteTime": {
     "end_time": "2018-07-16T00:38:55.799023Z",
     "start_time": "2018-07-16T00:38:55.790496Z"
    }
   },
   "outputs": [
    {
     "data": {
      "text/plain": [
       "['s', 'a', 'm', 5, 6, 7]"
      ]
     },
     "execution_count": 123,
     "metadata": {},
     "output_type": "execute_result"
    }
   ],
   "source": [
    "l.remove(\"p\") # remove by literal\n",
    "l"
   ]
  },
  {
   "cell_type": "code",
   "execution_count": 124,
   "metadata": {
    "ExecuteTime": {
     "end_time": "2018-07-16T00:38:56.897587Z",
     "start_time": "2018-07-16T00:38:56.887913Z"
    }
   },
   "outputs": [
    {
     "data": {
      "text/plain": [
       "['a', 'm', 5, 6, 7]"
      ]
     },
     "execution_count": 124,
     "metadata": {},
     "output_type": "execute_result"
    }
   ],
   "source": [
    "del l[0]\n",
    "l"
   ]
  },
  {
   "cell_type": "markdown",
   "metadata": {},
   "source": [
    "### Practical assignment\n",
    "\n",
    "1. Create a shopping list with `🍎apple`, `🍓strawberry`, `🥕carrot`, `🍌banana`.\n",
    "\n",
    "2. What is the length of this list? Print it.\n",
    "\n",
    "3. Add `🍚rice` to the end of this list.\n",
    "\n",
    "4. Sort shopping list alphabetically for a to z. \n",
    "\n",
    "5. Print last two items of this list.\n",
    "\n",
    "6. You just have remembered that you have allergy on `🍓strawberry`. Replce it with `🍊orange`.\n",
    "\n",
    "7. Bon appétit!"
   ]
  },
  {
   "cell_type": "code",
   "execution_count": 19,
   "metadata": {
    "ExecuteTime": {
     "end_time": "2018-07-16T13:43:13.426354Z",
     "start_time": "2018-07-16T13:43:13.423089Z"
    }
   },
   "outputs": [],
   "source": [
    "#Create a shopping list\n",
    "shopping_list = [\"apple\", \"strawberry\", \"carrot\", \"banana\"]"
   ]
  },
  {
   "cell_type": "code",
   "execution_count": 20,
   "metadata": {
    "ExecuteTime": {
     "end_time": "2018-07-16T13:43:13.684494Z",
     "start_time": "2018-07-16T13:43:13.677525Z"
    }
   },
   "outputs": [
    {
     "data": {
      "text/plain": [
       "4"
      ]
     },
     "execution_count": 20,
     "metadata": {},
     "output_type": "execute_result"
    }
   ],
   "source": [
    "# What is the length of this list?\n",
    "len(shopping_list)"
   ]
  },
  {
   "cell_type": "code",
   "execution_count": 21,
   "metadata": {
    "ExecuteTime": {
     "end_time": "2018-07-16T13:43:14.436432Z",
     "start_time": "2018-07-16T13:43:14.430565Z"
    }
   },
   "outputs": [
    {
     "data": {
      "text/plain": [
       "['apple', 'strawberry', 'carrot', 'banana', 'rice']"
      ]
     },
     "execution_count": 21,
     "metadata": {},
     "output_type": "execute_result"
    }
   ],
   "source": [
    "# Add 🍚rice to the end of this list\n",
    "shopping_list.append(\"rice\")\n",
    "shopping_list"
   ]
  },
  {
   "cell_type": "code",
   "execution_count": 22,
   "metadata": {
    "ExecuteTime": {
     "end_time": "2018-07-16T13:43:29.573355Z",
     "start_time": "2018-07-16T13:43:29.567566Z"
    }
   },
   "outputs": [
    {
     "data": {
      "text/plain": [
       "['apple', 'banana', 'carrot', 'rice', 'strawberry']"
      ]
     },
     "execution_count": 22,
     "metadata": {},
     "output_type": "execute_result"
    }
   ],
   "source": [
    "# Sort shopping list alphabetically for a to z.\n",
    "shopping_list.sort()\n",
    "shopping_list"
   ]
  },
  {
   "cell_type": "code",
   "execution_count": 23,
   "metadata": {
    "ExecuteTime": {
     "end_time": "2018-07-16T13:44:15.670789Z",
     "start_time": "2018-07-16T13:44:15.664552Z"
    }
   },
   "outputs": [
    {
     "data": {
      "text/plain": [
       "['rice', 'strawberry']"
      ]
     },
     "execution_count": 23,
     "metadata": {},
     "output_type": "execute_result"
    }
   ],
   "source": [
    "# Print last two items of this list.\n",
    "shopping_list[-2:]"
   ]
  },
  {
   "cell_type": "code",
   "execution_count": 24,
   "metadata": {
    "ExecuteTime": {
     "end_time": "2018-07-16T13:44:47.240197Z",
     "start_time": "2018-07-16T13:44:47.234563Z"
    }
   },
   "outputs": [
    {
     "data": {
      "text/plain": [
       "['apple', 'banana', 'carrot', 'rice', 'orange']"
      ]
     },
     "execution_count": 24,
     "metadata": {},
     "output_type": "execute_result"
    }
   ],
   "source": [
    "# You just have remembered that you have allergy on 🍓strawberry. Replce it with 🍊orange\n",
    "shopping_list[-1] = \"orange\"\n",
    "shopping_list"
   ]
  },
  {
   "cell_type": "markdown",
   "metadata": {
    "hideCode": false,
    "hidePrompt": false
   },
   "source": [
    "## Dictionaries"
   ]
  },
  {
   "cell_type": "markdown",
   "metadata": {
    "hideCode": false,
    "hidePrompt": false
   },
   "source": [
    "Dictionaries are sometimes called associative arrays or hashes (especially by users of other scripting languages). They associate a set of values with keys, so you can fetch an item out of a dictionary using the key under which you originally stored it. "
   ]
  },
  {
   "cell_type": "markdown",
   "metadata": {
    "hideCode": false,
    "hidePrompt": false
   },
   "source": [
    "Unlike in a list, items stored in a dictionary aren’t kept in any particular order."
   ]
  },
  {
   "cell_type": "markdown",
   "metadata": {
    "hideCode": false,
    "hidePrompt": false
   },
   "source": [
    "You can change dictionaries in place by assigning to indexes (they are mutable), but they don’t support the sequence operations that work on strings and lists. Because dictionaries are unordered collections, operations that depend on a fixed positional order (e.g., concatenation, slicing) don’t make sense."
   ]
  },
  {
   "cell_type": "code",
   "execution_count": 32,
   "metadata": {
    "ExecuteTime": {
     "end_time": "2018-07-15T23:24:41.410317Z",
     "start_time": "2018-07-15T23:24:41.406562Z"
    },
    "hideCode": false,
    "hidePrompt": false
   },
   "outputs": [],
   "source": [
    "D = {} # Empty dictionary"
   ]
  },
  {
   "cell_type": "code",
   "execution_count": 33,
   "metadata": {
    "ExecuteTime": {
     "end_time": "2018-07-15T23:24:41.680975Z",
     "start_time": "2018-07-15T23:24:41.675366Z"
    },
    "hideCode": false,
    "hidePrompt": false
   },
   "outputs": [],
   "source": [
    "D = {'name': 'Sergey', 'age': 22} # Two-item dictionary\n",
    "D = dict(name='Sergey', age=22) # Alternative construction techniques"
   ]
  },
  {
   "cell_type": "code",
   "execution_count": 34,
   "metadata": {
    "ExecuteTime": {
     "end_time": "2018-07-15T23:24:43.199108Z",
     "start_time": "2018-07-15T23:24:43.191512Z"
    },
    "hideCode": false,
    "hidePrompt": false
   },
   "outputs": [
    {
     "data": {
      "text/plain": [
       "'Sergey'"
      ]
     },
     "execution_count": 34,
     "metadata": {},
     "output_type": "execute_result"
    }
   ],
   "source": [
    "D['name'] # Indexing by key"
   ]
  },
  {
   "cell_type": "code",
   "execution_count": 35,
   "metadata": {
    "ExecuteTime": {
     "end_time": "2018-07-15T23:24:44.312891Z",
     "start_time": "2018-07-15T23:24:44.308980Z"
    },
    "hideCode": false,
    "hidePrompt": false
   },
   "outputs": [],
   "source": [
    "E = {'food': {'name': 'pizza', 'price': 10}} # Nesting"
   ]
  },
  {
   "cell_type": "code",
   "execution_count": 36,
   "metadata": {
    "ExecuteTime": {
     "end_time": "2018-07-15T23:24:46.340047Z",
     "start_time": "2018-07-15T23:24:46.333913Z"
    },
    "hideCode": false,
    "hidePrompt": false
   },
   "outputs": [
    {
     "data": {
      "text/plain": [
       "10"
      ]
     },
     "execution_count": 36,
     "metadata": {},
     "output_type": "execute_result"
    }
   ],
   "source": [
    "E[\"food\"][\"price\"]"
   ]
  },
  {
   "cell_type": "code",
   "execution_count": 37,
   "metadata": {
    "ExecuteTime": {
     "end_time": "2018-07-15T23:24:47.655680Z",
     "start_time": "2018-07-15T23:24:47.652420Z"
    }
   },
   "outputs": [],
   "source": [
    "D.update(E) # merge by keys"
   ]
  },
  {
   "cell_type": "code",
   "execution_count": 38,
   "metadata": {
    "ExecuteTime": {
     "end_time": "2018-07-15T23:24:51.510713Z",
     "start_time": "2018-07-15T23:24:51.499148Z"
    }
   },
   "outputs": [
    {
     "data": {
      "text/plain": [
       "{'name': 'Sergey', 'age': 22, 'food': {'name': 'pizza', 'price': 10}}"
      ]
     },
     "execution_count": 38,
     "metadata": {},
     "output_type": "execute_result"
    }
   ],
   "source": [
    "D"
   ]
  },
  {
   "cell_type": "code",
   "execution_count": 39,
   "metadata": {
    "ExecuteTime": {
     "end_time": "2018-07-15T23:25:11.487460Z",
     "start_time": "2018-07-15T23:25:11.482128Z"
    },
    "hideCode": false,
    "hidePrompt": false
   },
   "outputs": [
    {
     "data": {
      "text/plain": [
       "True"
      ]
     },
     "execution_count": 39,
     "metadata": {},
     "output_type": "execute_result"
    }
   ],
   "source": [
    "'age' in D # Membership: key present test"
   ]
  },
  {
   "cell_type": "code",
   "execution_count": 40,
   "metadata": {
    "ExecuteTime": {
     "end_time": "2018-07-15T23:25:12.496926Z",
     "start_time": "2018-07-15T23:25:12.490829Z"
    },
    "hideCode": false,
    "hidePrompt": false
   },
   "outputs": [
    {
     "data": {
      "text/plain": [
       "dict_keys(['name', 'age', 'food'])"
      ]
     },
     "execution_count": 40,
     "metadata": {},
     "output_type": "execute_result"
    }
   ],
   "source": [
    "D.keys() # Method: all keys"
   ]
  },
  {
   "cell_type": "code",
   "execution_count": 41,
   "metadata": {
    "ExecuteTime": {
     "end_time": "2018-07-15T23:25:16.341597Z",
     "start_time": "2018-07-15T23:25:16.335845Z"
    },
    "hideCode": false,
    "hidePrompt": false
   },
   "outputs": [
    {
     "data": {
      "text/plain": [
       "dict_values(['Sergey', 22, {'name': 'pizza', 'price': 10}])"
      ]
     },
     "execution_count": 41,
     "metadata": {},
     "output_type": "execute_result"
    }
   ],
   "source": [
    "D.values() # Method: all values"
   ]
  },
  {
   "cell_type": "code",
   "execution_count": 42,
   "metadata": {
    "ExecuteTime": {
     "end_time": "2018-07-15T23:25:17.980409Z",
     "start_time": "2018-07-15T23:25:17.974855Z"
    },
    "hideCode": false,
    "hidePrompt": false
   },
   "outputs": [
    {
     "data": {
      "text/plain": [
       "dict_items([('name', 'Sergey'), ('age', 22), ('food', {'name': 'pizza', 'price': 10})])"
      ]
     },
     "execution_count": 42,
     "metadata": {},
     "output_type": "execute_result"
    }
   ],
   "source": [
    "D.items() # Method: all key+value tuples"
   ]
  },
  {
   "cell_type": "code",
   "execution_count": 43,
   "metadata": {
    "ExecuteTime": {
     "end_time": "2018-07-15T23:25:21.348909Z",
     "start_time": "2018-07-15T23:25:21.342453Z"
    },
    "hideCode": false,
    "hidePrompt": false
   },
   "outputs": [
    {
     "data": {
      "text/plain": [
       "{'name': 'Sergey',\n",
       " 'age': 22,\n",
       " 'food': {'name': 'pizza', 'price': 10},\n",
       " 'surname': 'Ivanov'}"
      ]
     },
     "execution_count": 43,
     "metadata": {},
     "output_type": "execute_result"
    }
   ],
   "source": [
    "D[\"surname\"] = \"Ivanov\"\n",
    "D"
   ]
  },
  {
   "cell_type": "code",
   "execution_count": null,
   "metadata": {
    "ExecuteTime": {
     "end_time": "2018-07-10T22:52:04.377156Z",
     "start_time": "2018-07-10T22:52:04.367548Z"
    },
    "hideCode": false,
    "hidePrompt": false
   },
   "outputs": [],
   "source": [
    "del D[\"surname\"]\n",
    "D"
   ]
  },
  {
   "cell_type": "markdown",
   "metadata": {},
   "source": [
    "### Practical assignment\n",
    "\n",
    "Create a data structue, to store this information:\n",
    "\n",
    "User Sasha Berg ordered a one pepperoni pizza and two bottles of Coca-cola."
   ]
  },
  {
   "cell_type": "code",
   "execution_count": 25,
   "metadata": {
    "ExecuteTime": {
     "end_time": "2018-07-16T13:45:35.194842Z",
     "start_time": "2018-07-16T13:45:35.187491Z"
    }
   },
   "outputs": [],
   "source": [
    "# write a code\n",
    "order = {\n",
    "    \"name\": \"Sasha Berg\",\n",
    "    \"order\": [\n",
    "        {\n",
    "            \"name\": \"pizza pepperoni\",\n",
    "            \"price\": 12,\n",
    "            \"amount\": 1\n",
    "        },\n",
    "        {\n",
    "            \"name\": \"Coca-cola\",\n",
    "            \"price\": 4,\n",
    "            \"amount\": 2\n",
    "        }\n",
    "    ]\n",
    "}\n",
    "\n",
    "order1 = {\n",
    "    \"name\": \"Max\",\n",
    "    \"order\": [\n",
    "        {\n",
    "            \"name\": \"Cupcacke\",\n",
    "            \"price\": 12,\n",
    "            \"amount\": 1\n",
    "        },\n",
    "    ]\n",
    "}\n",
    "\n",
    "orders = [order, order1]"
   ]
  },
  {
   "cell_type": "code",
   "execution_count": 26,
   "metadata": {
    "ExecuteTime": {
     "end_time": "2018-07-16T13:45:39.346157Z",
     "start_time": "2018-07-16T13:45:39.340031Z"
    }
   },
   "outputs": [
    {
     "data": {
      "text/plain": [
       "[{'name': 'Sasha Berg',\n",
       "  'order': [{'name': 'pizza pepperoni', 'price': 12, 'amount': 1},\n",
       "   {'name': 'Coca-cola', 'price': 4, 'amount': 2}]},\n",
       " {'name': 'Max', 'order': [{'name': 'Cupcacke', 'price': 12, 'amount': 1}]}]"
      ]
     },
     "execution_count": 26,
     "metadata": {},
     "output_type": "execute_result"
    }
   ],
   "source": [
    "orders"
   ]
  },
  {
   "cell_type": "markdown",
   "metadata": {},
   "source": [
    "Then he changed the changed his mind and replace Pepperoni pizza by two Margherita pizzas. Update our data to reflect the changes."
   ]
  },
  {
   "cell_type": "code",
   "execution_count": 27,
   "metadata": {
    "ExecuteTime": {
     "end_time": "2018-07-16T13:45:57.281324Z",
     "start_time": "2018-07-16T13:45:57.276053Z"
    }
   },
   "outputs": [
    {
     "data": {
      "text/plain": [
       "{'name': 'Sasha Berg',\n",
       " 'order': [{'name': 'Margherita', 'price': 12, 'amount': 2},\n",
       "  {'name': 'Coca-cola', 'price': 4, 'amount': 2}]}"
      ]
     },
     "execution_count": 27,
     "metadata": {},
     "output_type": "execute_result"
    }
   ],
   "source": [
    "# write a code\n",
    "order[\"order\"][0][\"name\"] = \"Margherita\"\n",
    "order[\"order\"][0][\"amount\"] = 2\n",
    "order"
   ]
  }
 ],
 "metadata": {
  "hide_code_all_hidden": false,
  "kernelspec": {
   "display_name": "Python 3",
   "language": "python",
   "name": "python3"
  },
  "language_info": {
   "codemirror_mode": {
    "name": "ipython",
    "version": 3
   },
   "file_extension": ".py",
   "mimetype": "text/x-python",
   "name": "python",
   "nbconvert_exporter": "python",
   "pygments_lexer": "ipython3",
   "version": "3.6.5"
  },
  "toc": {
   "nav_menu": {},
   "number_sections": true,
   "sideBar": true,
   "skip_h1_title": false,
   "toc_cell": false,
   "toc_position": {},
   "toc_section_display": "block",
   "toc_window_display": false
  }
 },
 "nbformat": 4,
 "nbformat_minor": 2
}
